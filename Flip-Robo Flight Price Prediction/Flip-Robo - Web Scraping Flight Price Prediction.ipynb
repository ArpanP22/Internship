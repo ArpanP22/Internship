{
 "cells": [
  {
   "cell_type": "code",
   "execution_count": 2,
   "id": "f0d5af5f",
   "metadata": {},
   "outputs": [],
   "source": [
    "# Importing necessary library files\n",
    "import warnings\n",
    "warnings.simplefilter(\"ignore\")\n",
    "warnings.filterwarnings(\"ignore\")\n",
    "\n",
    "\n",
    "import selenium\n",
    "import pandas as pd\n",
    "import numpy as np\n",
    "import time\n",
    "import requests\n",
    "import re\n",
    "from selenium import webdriver \n",
    "from selenium.webdriver.common.by import By\n",
    "from selenium.webdriver.common.keys import Keys\n",
    "from selenium.webdriver.support.ui import WebDriverWait\n",
    "from selenium.webdriver.common.action_chains import ActionChains\n",
    "from selenium.webdriver.support import expected_conditions as EC\n",
    "from selenium.common.exceptions import ElementNotVisibleException\n",
    "from selenium.common.exceptions import StaleElementReferenceException, NoSuchElementException, ElementClickInterceptedException"
   ]
  },
  {
   "cell_type": "code",
   "execution_count": 3,
   "id": "e8f53390",
   "metadata": {},
   "outputs": [],
   "source": [
    "# Connecting to the webdriver \n",
    "driver = webdriver.Chrome(\"chromedriver.exe\")\n",
    "driver.maximize_window()        # Maximizing the window"
   ]
  },
  {
   "cell_type": "code",
   "execution_count": 4,
   "id": "32da12e7",
   "metadata": {},
   "outputs": [],
   "source": [
    "# Getting the webpage of mentioned url\n",
    "url = \"https://www.yatra.com/\"\n",
    "driver.get(url)\n",
    "time.sleep(3)"
   ]
  },
  {
   "cell_type": "code",
   "execution_count": 5,
   "id": "71304556",
   "metadata": {},
   "outputs": [],
   "source": [
    "name=[] #empty list\n",
    "source=[] #empty list\n",
    "dest=[] #empty list\n",
    "dep=[] #empty list\n",
    "arr=[] #empty list\n",
    "duration =[] #empty list\n",
    "stops=[] #empty list\n",
    "info=[] #empty list\n",
    "price=[] #empty list\n",
    "url=[] #empty list"
   ]
  },
  {
   "cell_type": "code",
   "execution_count": 6,
   "id": "2f7ea5fd",
   "metadata": {},
   "outputs": [],
   "source": [
    "#the site uses cookies, click on I agree\n",
    "Iagree = driver.find_element(By.XPATH, \"//button[@class='btngdpr']\")\n",
    "Iagree.click()"
   ]
  },
  {
   "cell_type": "code",
   "execution_count": 10,
   "id": "6534921f",
   "metadata": {},
   "outputs": [],
   "source": [
    "#click on first location, \"New DElhi\", in section of popular domestic flight routes \n",
    "domdelhi = driver.find_element(By.XPATH, \"//div[@class='popular_destination popular-destination-module carousalModuleArea'][1]/ul/li[1]\")\n",
    "domdelhi.click()\n",
    "\n",
    "#collecting flights from Delhi to popular stops\n",
    "urldm = driver.find_elements(By.XPATH,\"//div[@class='popular_destination popular-destination-module carousalModuleArea'][1]/div/div/div/div[1]/div/a\")\n",
    "for i in urldm[:]:\n",
    "        url.append(i.get_attribute('href')) "
   ]
  },
  {
   "cell_type": "code",
   "execution_count": 11,
   "id": "90e3e02a",
   "metadata": {},
   "outputs": [],
   "source": [
    "#click on second location, \"Mumbai\", in section of popular domestic flight routes \n",
    "dommum = driver.find_element(By.XPATH, \"//div[@class='popular_destination popular-destination-module carousalModuleArea'][1]/ul/li[2]\")\n",
    "dommum.click()\n",
    "     \n",
    "#collecting flights from Mumbai to popular stops\n",
    "urlmum = driver.find_elements(By.XPATH,\"//div[@class='popular_destination popular-destination-module carousalModuleArea'][1]/div/div/div/div[1]/div/a\")\n",
    "for i in urlmum[:]:\n",
    "        url.append(i.get_attribute('href')) "
   ]
  },
  {
   "cell_type": "code",
   "execution_count": 12,
   "id": "efbafe6d",
   "metadata": {},
   "outputs": [],
   "source": [
    "#click on third location, \"BANGALORE\", in section of popular domestic flight routes \n",
    "dombgl = driver.find_element(By.XPATH, \"//div[@class='popular_destination popular-destination-module carousalModuleArea'][1]/ul/li[3]\")\n",
    "dombgl.click()\n",
    "\n",
    "#collecting flights from BANGALORE to popular stops\n",
    "urlbnl = driver.find_elements(By.XPATH,\"//div[@class='popular_destination popular-destination-module carousalModuleArea'][1]/div/div/div/div[1]/div/a\")\n",
    "for i in urlbnl[:]:\n",
    "        url.append(i.get_attribute('href')) "
   ]
  },
  {
   "cell_type": "code",
   "execution_count": 13,
   "id": "a714116d",
   "metadata": {},
   "outputs": [],
   "source": [
    "#click on fourth location, \"HYDERABAD\", in section of popular domestic flight routes \n",
    "domhyd = driver.find_element(By.XPATH, \"//div[@class='popular_destination popular-destination-module carousalModuleArea'][1]/ul/li[4]\")\n",
    "domhyd.click()\n",
    "     \n",
    "#collecting flights from HYDERABAD to popular stops\n",
    "urlhyd = driver.find_elements(By.XPATH,\"//div[@class='popular_destination popular-destination-module carousalModuleArea'][1]/div/div/div/div[1]/div/a\")\n",
    "for i in urlhyd[:]:\n",
    "        url.append(i.get_attribute('href'))"
   ]
  },
  {
   "cell_type": "code",
   "execution_count": 14,
   "id": "6e86b037",
   "metadata": {},
   "outputs": [],
   "source": [
    "#click on fifth location, \"Kolkata\", in section of popular domestic flight routes \n",
    "domkol = driver.find_element(By.XPATH, \"//div[@class='popular_destination popular-destination-module carousalModuleArea'][1]/ul/li[5]\")\n",
    "domkol.click()\n",
    "\n",
    "#collecting flights from Kolkata to popular stops\n",
    "urlkol = driver.find_elements(By.XPATH,\"//div[@class='popular_destination popular-destination-module carousalModuleArea'][1]/div/div/div/div[1]/div/a\")\n",
    "for i in urlkol[:]:\n",
    "        url.append(i.get_attribute('href'))"
   ]
  },
  {
   "cell_type": "code",
   "execution_count": 16,
   "id": "48d32b6a",
   "metadata": {},
   "outputs": [
    {
     "data": {
      "text/plain": [
       "164"
      ]
     },
     "execution_count": 16,
     "metadata": {},
     "output_type": "execute_result"
    }
   ],
   "source": [
    "len(url)"
   ]
  },
  {
   "cell_type": "code",
   "execution_count": 18,
   "id": "968d20be",
   "metadata": {},
   "outputs": [],
   "source": [
    "details=[]\n",
    "for j in url:      #fetching data of various flights from each page\n",
    "    driver.get(j)\n",
    "    time.sleep(2)\n",
    "    \n",
    "    #driver.find_element(By.XPATH,\"//span[@class='flR mr15 view_more']/a\").click()\n",
    "#i-b text ellipsis\n",
    "    airline=driver.find_elements(By.XPATH,\"//div[@class='flight-det table full-width clearfix']\")\n",
    "    for i in airline:\n",
    "        details.append(i.text)\n",
    "    \n"
   ]
  },
  {
   "cell_type": "code",
   "execution_count": 19,
   "id": "7e8fdbe3",
   "metadata": {},
   "outputs": [
    {
     "data": {
      "text/html": [
       "<div>\n",
       "<style scoped>\n",
       "    .dataframe tbody tr th:only-of-type {\n",
       "        vertical-align: middle;\n",
       "    }\n",
       "\n",
       "    .dataframe tbody tr th {\n",
       "        vertical-align: top;\n",
       "    }\n",
       "\n",
       "    .dataframe thead th {\n",
       "        text-align: right;\n",
       "    }\n",
       "</style>\n",
       "<table border=\"1\" class=\"dataframe\">\n",
       "  <thead>\n",
       "    <tr style=\"text-align: right;\">\n",
       "      <th></th>\n",
       "      <th>0</th>\n",
       "    </tr>\n",
       "  </thead>\n",
       "  <tbody>\n",
       "    <tr>\n",
       "      <th>0</th>\n",
       "      <td>SpiceJet\\nSG-8709\\n18:55\\nNew Delhi\\n21:05\\nMu...</td>\n",
       "    </tr>\n",
       "    <tr>\n",
       "      <th>1</th>\n",
       "      <td>SpiceJet\\nSG-8701\\n07:20\\nNew Delhi\\n09:35\\nMu...</td>\n",
       "    </tr>\n",
       "    <tr>\n",
       "      <th>2</th>\n",
       "      <td>SpiceJet\\nSG-8169\\n19:45\\nNew Delhi\\n22:05\\nMu...</td>\n",
       "    </tr>\n",
       "    <tr>\n",
       "      <th>3</th>\n",
       "      <td>Air Asia\\nI5-745/338\\n13:00\\nNew Delhi\\n18:20\\...</td>\n",
       "    </tr>\n",
       "    <tr>\n",
       "      <th>4</th>\n",
       "      <td>Air Asia\\nI5-857/334\\n18:45\\nNew Delhi\\n00:40\\...</td>\n",
       "    </tr>\n",
       "  </tbody>\n",
       "</table>\n",
       "</div>"
      ],
      "text/plain": [
       "                                                   0\n",
       "0  SpiceJet\\nSG-8709\\n18:55\\nNew Delhi\\n21:05\\nMu...\n",
       "1  SpiceJet\\nSG-8701\\n07:20\\nNew Delhi\\n09:35\\nMu...\n",
       "2  SpiceJet\\nSG-8169\\n19:45\\nNew Delhi\\n22:05\\nMu...\n",
       "3  Air Asia\\nI5-745/338\\n13:00\\nNew Delhi\\n18:20\\...\n",
       "4  Air Asia\\nI5-857/334\\n18:45\\nNew Delhi\\n00:40\\..."
      ]
     },
     "execution_count": 19,
     "metadata": {},
     "output_type": "execute_result"
    }
   ],
   "source": [
    "detail_df=pd.DataFrame(details)\n",
    "detail_df.head()"
   ]
  },
  {
   "cell_type": "code",
   "execution_count": 20,
   "id": "a3be2702",
   "metadata": {},
   "outputs": [
    {
     "data": {
      "text/plain": [
       "1918"
      ]
     },
     "execution_count": 20,
     "metadata": {},
     "output_type": "execute_result"
    }
   ],
   "source": [
    "res = [i for i in details if 'day' not in i]\n",
    "len(res)"
   ]
  },
  {
   "cell_type": "code",
   "execution_count": 21,
   "id": "587258ee",
   "metadata": {},
   "outputs": [],
   "source": [
    "del_row=detail_df.index[detail_df[0].str.find('day') != -1].tolist()"
   ]
  },
  {
   "cell_type": "code",
   "execution_count": 22,
   "id": "3ab9e8a4",
   "metadata": {},
   "outputs": [],
   "source": [
    "del_df = [detail_df[0].index.values for i in detail_df[0] if 'day' in i]"
   ]
  },
  {
   "cell_type": "code",
   "execution_count": 23,
   "id": "290efa8d",
   "metadata": {},
   "outputs": [
    {
     "data": {
      "text/plain": [
       "2208"
      ]
     },
     "execution_count": 23,
     "metadata": {},
     "output_type": "execute_result"
    }
   ],
   "source": [
    "len(details)"
   ]
  },
  {
   "cell_type": "code",
   "execution_count": 24,
   "id": "e9c70e94",
   "metadata": {},
   "outputs": [],
   "source": [
    "Airlines_details=[]  \n",
    "for i in res:\n",
    "    Airlines_details.append(i.split('\\n'))"
   ]
  },
  {
   "cell_type": "code",
   "execution_count": 25,
   "id": "4b9aa7c1",
   "metadata": {},
   "outputs": [],
   "source": [
    "name=[]\n",
    "for i in Airlines_details:\n",
    "    name.append(i[0])"
   ]
  },
  {
   "cell_type": "code",
   "execution_count": 26,
   "id": "6c8ba1b2",
   "metadata": {},
   "outputs": [],
   "source": [
    "source=[] #empty list\n",
    "for i in Airlines_details:\n",
    "    source.append(i[3])"
   ]
  },
  {
   "cell_type": "code",
   "execution_count": 27,
   "id": "669137e3",
   "metadata": {},
   "outputs": [],
   "source": [
    "destination=[] #empty list\n",
    "for i in Airlines_details:\n",
    "    destination.append(i[5])"
   ]
  },
  {
   "cell_type": "code",
   "execution_count": 28,
   "id": "48012044",
   "metadata": {},
   "outputs": [],
   "source": [
    "dep_time=[] #empty list\n",
    "for i in Airlines_details:\n",
    "    dep_time.append(i[2])"
   ]
  },
  {
   "cell_type": "code",
   "execution_count": 29,
   "id": "0cdfe3cc",
   "metadata": {},
   "outputs": [],
   "source": [
    "arr_time=[] #empty list\n",
    "for i in Airlines_details:\n",
    "    arr_time.append(i[4])"
   ]
  },
  {
   "cell_type": "code",
   "execution_count": 30,
   "id": "c19930a2",
   "metadata": {},
   "outputs": [],
   "source": [
    "duration =[] #empty list\n",
    "for i in Airlines_details:\n",
    "    duration.append(i[6])"
   ]
  },
  {
   "cell_type": "code",
   "execution_count": 31,
   "id": "5d9bd718",
   "metadata": {},
   "outputs": [],
   "source": [
    "stops=[] #empty list\n",
    "for i in Airlines_details:\n",
    "    stops.append(i[7])"
   ]
  },
  {
   "cell_type": "code",
   "execution_count": 32,
   "id": "ab6a8857",
   "metadata": {},
   "outputs": [],
   "source": [
    "price=[] #empty list\n",
    "for i in Airlines_details:\n",
    "    if i[8].find('at')==-1:\n",
    "        price.append(i[8])\n",
    "    else:\n",
    "        pos=i[8].find('at')\n",
    "        price.append(i[8][pos+2:])"
   ]
  },
  {
   "cell_type": "code",
   "execution_count": 33,
   "id": "d6cb6621",
   "metadata": {},
   "outputs": [],
   "source": [
    "info=[] #empty list\n",
    "for j in url:      #fetching data of various flights from each page\n",
    "    driver.get(j)\n",
    "    time.sleep(2)\n",
    "    try:    \n",
    "        #fetching the additional information of the flight\n",
    "        ad=driver.find_elements(By.XPATH,\"//div[@class='features pull-right fs-12 flex']\")\n",
    "        for k in ad:\n",
    "            y=k.text.split('\\n')\n",
    "            if y[0]=='Free Meal' or y[0]=='No Meal Fare':\n",
    "                info.append(y[0])\n",
    "            else:\n",
    "                info.append('No info')\n",
    "    except:\n",
    "        info.append('No info')"
   ]
  },
  {
   "cell_type": "code",
   "execution_count": 34,
   "id": "dd5e7e2b",
   "metadata": {},
   "outputs": [
    {
     "data": {
      "text/html": [
       "<div>\n",
       "<style scoped>\n",
       "    .dataframe tbody tr th:only-of-type {\n",
       "        vertical-align: middle;\n",
       "    }\n",
       "\n",
       "    .dataframe tbody tr th {\n",
       "        vertical-align: top;\n",
       "    }\n",
       "\n",
       "    .dataframe thead th {\n",
       "        text-align: right;\n",
       "    }\n",
       "</style>\n",
       "<table border=\"1\" class=\"dataframe\">\n",
       "  <thead>\n",
       "    <tr style=\"text-align: right;\">\n",
       "      <th></th>\n",
       "      <th>0</th>\n",
       "    </tr>\n",
       "  </thead>\n",
       "  <tbody>\n",
       "    <tr>\n",
       "      <th>0</th>\n",
       "      <td>No info</td>\n",
       "    </tr>\n",
       "    <tr>\n",
       "      <th>1</th>\n",
       "      <td>No info</td>\n",
       "    </tr>\n",
       "    <tr>\n",
       "      <th>2</th>\n",
       "      <td>No info</td>\n",
       "    </tr>\n",
       "    <tr>\n",
       "      <th>3</th>\n",
       "      <td>No info</td>\n",
       "    </tr>\n",
       "    <tr>\n",
       "      <th>6</th>\n",
       "      <td>No info</td>\n",
       "    </tr>\n",
       "    <tr>\n",
       "      <th>...</th>\n",
       "      <td>...</td>\n",
       "    </tr>\n",
       "    <tr>\n",
       "      <th>2241</th>\n",
       "      <td>No info</td>\n",
       "    </tr>\n",
       "    <tr>\n",
       "      <th>2242</th>\n",
       "      <td>No info</td>\n",
       "    </tr>\n",
       "    <tr>\n",
       "      <th>2243</th>\n",
       "      <td>No info</td>\n",
       "    </tr>\n",
       "    <tr>\n",
       "      <th>2244</th>\n",
       "      <td>No info</td>\n",
       "    </tr>\n",
       "    <tr>\n",
       "      <th>2245</th>\n",
       "      <td>No info</td>\n",
       "    </tr>\n",
       "  </tbody>\n",
       "</table>\n",
       "<p>1956 rows × 1 columns</p>\n",
       "</div>"
      ],
      "text/plain": [
       "            0\n",
       "0     No info\n",
       "1     No info\n",
       "2     No info\n",
       "3     No info\n",
       "6     No info\n",
       "...       ...\n",
       "2241  No info\n",
       "2242  No info\n",
       "2243  No info\n",
       "2244  No info\n",
       "2245  No info\n",
       "\n",
       "[1956 rows x 1 columns]"
      ]
     },
     "execution_count": 34,
     "metadata": {},
     "output_type": "execute_result"
    }
   ],
   "source": [
    "info_df=pd.DataFrame(info)\n",
    "info_df=info_df.drop(del_row)\n",
    "info_df"
   ]
  },
  {
   "cell_type": "code",
   "execution_count": 35,
   "id": "c0961376",
   "metadata": {},
   "outputs": [
    {
     "name": "stdout",
     "output_type": "stream",
     "text": [
      "1918 1918 1918 1918 1918 1918 1918 1918\n"
     ]
    }
   ],
   "source": [
    "print(len(name),len(source),len(destination),len(dep_time),len(arr_time),len(duration),len(stops),len(price)) "
   ]
  },
  {
   "cell_type": "code",
   "execution_count": 36,
   "id": "7537bb9d",
   "metadata": {},
   "outputs": [
    {
     "data": {
      "text/html": [
       "<div>\n",
       "<style scoped>\n",
       "    .dataframe tbody tr th:only-of-type {\n",
       "        vertical-align: middle;\n",
       "    }\n",
       "\n",
       "    .dataframe tbody tr th {\n",
       "        vertical-align: top;\n",
       "    }\n",
       "\n",
       "    .dataframe thead th {\n",
       "        text-align: right;\n",
       "    }\n",
       "</style>\n",
       "<table border=\"1\" class=\"dataframe\">\n",
       "  <thead>\n",
       "    <tr style=\"text-align: right;\">\n",
       "      <th></th>\n",
       "      <th>Airline</th>\n",
       "      <th>Source</th>\n",
       "      <th>Destination</th>\n",
       "      <th>Dep_Time</th>\n",
       "      <th>Arrival_Time</th>\n",
       "      <th>Duration</th>\n",
       "      <th>Total_Stops</th>\n",
       "      <th>Additional_Info</th>\n",
       "      <th>Price (in ₹)</th>\n",
       "    </tr>\n",
       "  </thead>\n",
       "  <tbody>\n",
       "    <tr>\n",
       "      <th>0</th>\n",
       "      <td>SpiceJet</td>\n",
       "      <td>New Delhi</td>\n",
       "      <td>Mumbai</td>\n",
       "      <td>18:55</td>\n",
       "      <td>21:05</td>\n",
       "      <td>2h 10m</td>\n",
       "      <td>Non Stop</td>\n",
       "      <td>No info</td>\n",
       "      <td>5,950</td>\n",
       "    </tr>\n",
       "    <tr>\n",
       "      <th>1</th>\n",
       "      <td>SpiceJet</td>\n",
       "      <td>New Delhi</td>\n",
       "      <td>Mumbai</td>\n",
       "      <td>07:20</td>\n",
       "      <td>09:35</td>\n",
       "      <td>2h 15m</td>\n",
       "      <td>Non Stop</td>\n",
       "      <td>No info</td>\n",
       "      <td>5,950</td>\n",
       "    </tr>\n",
       "    <tr>\n",
       "      <th>2</th>\n",
       "      <td>SpiceJet</td>\n",
       "      <td>New Delhi</td>\n",
       "      <td>Mumbai</td>\n",
       "      <td>19:45</td>\n",
       "      <td>22:05</td>\n",
       "      <td>2h 20m</td>\n",
       "      <td>Non Stop</td>\n",
       "      <td>No info</td>\n",
       "      <td>5,950</td>\n",
       "    </tr>\n",
       "    <tr>\n",
       "      <th>3</th>\n",
       "      <td>Air Asia</td>\n",
       "      <td>New Delhi</td>\n",
       "      <td>Mumbai</td>\n",
       "      <td>13:00</td>\n",
       "      <td>18:20</td>\n",
       "      <td>5h 20m</td>\n",
       "      <td>1 Stop</td>\n",
       "      <td>No info</td>\n",
       "      <td>5,950</td>\n",
       "    </tr>\n",
       "    <tr>\n",
       "      <th>4</th>\n",
       "      <td>Air Asia</td>\n",
       "      <td>New Delhi</td>\n",
       "      <td>Mumbai</td>\n",
       "      <td>08:00</td>\n",
       "      <td>14:05</td>\n",
       "      <td>6h 05m</td>\n",
       "      <td>1 Stop</td>\n",
       "      <td>NaN</td>\n",
       "      <td>5,950</td>\n",
       "    </tr>\n",
       "    <tr>\n",
       "      <th>...</th>\n",
       "      <td>...</td>\n",
       "      <td>...</td>\n",
       "      <td>...</td>\n",
       "      <td>...</td>\n",
       "      <td>...</td>\n",
       "      <td>...</td>\n",
       "      <td>...</td>\n",
       "      <td>...</td>\n",
       "      <td>...</td>\n",
       "    </tr>\n",
       "    <tr>\n",
       "      <th>1913</th>\n",
       "      <td>IndiGo</td>\n",
       "      <td>Kolkata</td>\n",
       "      <td>Chennai</td>\n",
       "      <td>12:05</td>\n",
       "      <td>18:30</td>\n",
       "      <td>6h 25m</td>\n",
       "      <td>1 Stop</td>\n",
       "      <td>No info</td>\n",
       "      <td>6,507</td>\n",
       "    </tr>\n",
       "    <tr>\n",
       "      <th>1914</th>\n",
       "      <td>IndiGo</td>\n",
       "      <td>Kolkata</td>\n",
       "      <td>Chennai</td>\n",
       "      <td>05:40</td>\n",
       "      <td>12:10</td>\n",
       "      <td>6h 30m</td>\n",
       "      <td>1 Stop</td>\n",
       "      <td>No info</td>\n",
       "      <td>6,507</td>\n",
       "    </tr>\n",
       "    <tr>\n",
       "      <th>1915</th>\n",
       "      <td>IndiGo</td>\n",
       "      <td>Kolkata</td>\n",
       "      <td>Chennai</td>\n",
       "      <td>08:40</td>\n",
       "      <td>15:55</td>\n",
       "      <td>7h 15m</td>\n",
       "      <td>1 Stop</td>\n",
       "      <td>No info</td>\n",
       "      <td>6,507</td>\n",
       "    </tr>\n",
       "    <tr>\n",
       "      <th>1916</th>\n",
       "      <td>IndiGo</td>\n",
       "      <td>Kolkata</td>\n",
       "      <td>Chennai</td>\n",
       "      <td>12:05</td>\n",
       "      <td>19:40</td>\n",
       "      <td>7h 35m</td>\n",
       "      <td>1 Stop</td>\n",
       "      <td>No info</td>\n",
       "      <td>6,507</td>\n",
       "    </tr>\n",
       "    <tr>\n",
       "      <th>1917</th>\n",
       "      <td>IndiGo</td>\n",
       "      <td>Kolkata</td>\n",
       "      <td>Chennai</td>\n",
       "      <td>04:30</td>\n",
       "      <td>12:10</td>\n",
       "      <td>7h 40m</td>\n",
       "      <td>1 Stop</td>\n",
       "      <td>No info</td>\n",
       "      <td>6,507</td>\n",
       "    </tr>\n",
       "  </tbody>\n",
       "</table>\n",
       "<p>1918 rows × 9 columns</p>\n",
       "</div>"
      ],
      "text/plain": [
       "       Airline     Source Destination Dep_Time Arrival_Time Duration  \\\n",
       "0     SpiceJet  New Delhi      Mumbai    18:55        21:05   2h 10m   \n",
       "1     SpiceJet  New Delhi      Mumbai    07:20        09:35   2h 15m   \n",
       "2     SpiceJet  New Delhi      Mumbai    19:45        22:05   2h 20m   \n",
       "3     Air Asia  New Delhi      Mumbai    13:00        18:20   5h 20m   \n",
       "4     Air Asia  New Delhi      Mumbai    08:00        14:05   6h 05m   \n",
       "...        ...        ...         ...      ...          ...      ...   \n",
       "1913    IndiGo    Kolkata     Chennai    12:05        18:30   6h 25m   \n",
       "1914    IndiGo    Kolkata     Chennai    05:40        12:10   6h 30m   \n",
       "1915    IndiGo    Kolkata     Chennai    08:40        15:55   7h 15m   \n",
       "1916    IndiGo    Kolkata     Chennai    12:05        19:40   7h 35m   \n",
       "1917    IndiGo    Kolkata     Chennai    04:30        12:10   7h 40m   \n",
       "\n",
       "     Total_Stops Additional_Info Price (in ₹)  \n",
       "0       Non Stop         No info        5,950  \n",
       "1       Non Stop         No info        5,950  \n",
       "2       Non Stop         No info        5,950  \n",
       "3         1 Stop         No info        5,950  \n",
       "4         1 Stop             NaN        5,950  \n",
       "...          ...             ...          ...  \n",
       "1913      1 Stop         No info        6,507  \n",
       "1914      1 Stop         No info        6,507  \n",
       "1915      1 Stop         No info        6,507  \n",
       "1916      1 Stop         No info        6,507  \n",
       "1917      1 Stop         No info        6,507  \n",
       "\n",
       "[1918 rows x 9 columns]"
      ]
     },
     "execution_count": 36,
     "metadata": {},
     "output_type": "execute_result"
    }
   ],
   "source": [
    "Flight = pd.DataFrame({})   #creating a datafrmae\n",
    "Flight['Airline']=name\n",
    "Flight['Source']=source\n",
    "Flight['Destination']=destination\n",
    "Flight['Dep_Time']=dep_time\n",
    "Flight['Arrival_Time']=arr_time\n",
    "Flight['Duration']=duration\n",
    "Flight['Total_Stops']=stops\n",
    "Flight['Additional_Info']=info_df[0]\n",
    "Flight['Price (in ₹)']=price\n",
    "Flight"
   ]
  },
  {
   "cell_type": "code",
   "execution_count": 37,
   "id": "3909e861",
   "metadata": {},
   "outputs": [],
   "source": [
    "Flight.to_csv('Flight price Dataset.csv')\n",
    "#saving/exporting the dataset into excel"
   ]
  },
  {
   "cell_type": "code",
   "execution_count": 38,
   "id": "0e4a35dd",
   "metadata": {},
   "outputs": [],
   "source": [
    "driver.quit()\n",
    "#closing the chrome driver"
   ]
  }
 ],
 "metadata": {
  "kernelspec": {
   "display_name": "Python 3 (ipykernel)",
   "language": "python",
   "name": "python3"
  },
  "language_info": {
   "codemirror_mode": {
    "name": "ipython",
    "version": 3
   },
   "file_extension": ".py",
   "mimetype": "text/x-python",
   "name": "python",
   "nbconvert_exporter": "python",
   "pygments_lexer": "ipython3",
   "version": "3.9.7"
  }
 },
 "nbformat": 4,
 "nbformat_minor": 5
}
