{
 "cells": [
  {
   "cell_type": "code",
   "execution_count": 1,
   "id": "053a6b64",
   "metadata": {},
   "outputs": [],
   "source": [
    "import selenium\n",
    "from selenium import webdriver\n",
    "import pandas as pd\n",
    "from selenium.webdriver.common.by import By\n",
    "import time\n",
    "import warnings\n",
    "warnings.filterwarnings('ignore')"
   ]
  },
  {
   "cell_type": "markdown",
   "id": "480e1b28",
   "metadata": {},
   "source": [
    "# Q1: Write a python program to scrape data for “Data Analyst” Job position in “Bangalore” location. \n",
    "You have to scrape the job-title, job-location, company_name, experience_required. You have to scrape first 10\n",
    "jobs data."
   ]
  },
  {
   "cell_type": "code",
   "execution_count": 2,
   "id": "fae6d367",
   "metadata": {},
   "outputs": [],
   "source": [
    "#connect to the web driver\n",
    "driver=webdriver.Chrome(r'C:\\Users\\Arpan Pattanayak\\Downloads\\chromedriver_win32\\chromedriver.exe')"
   ]
  },
  {
   "cell_type": "code",
   "execution_count": 3,
   "id": "d1326e50",
   "metadata": {},
   "outputs": [],
   "source": [
    "url = 'https://www.naukri.com/'\n",
    "driver.get(url)"
   ]
  },
  {
   "cell_type": "code",
   "execution_count": 4,
   "id": "1615256f",
   "metadata": {},
   "outputs": [],
   "source": [
    "#finding web element for search job bar using id\n",
    "search_job=driver.find_element(By.CLASS_NAME,'suggestor-input')"
   ]
  },
  {
   "cell_type": "code",
   "execution_count": 5,
   "id": "29f10a36",
   "metadata": {},
   "outputs": [],
   "source": [
    "#write on search bar\n",
    "search_job.send_keys('Data Analyst')"
   ]
  },
  {
   "cell_type": "code",
   "execution_count": 6,
   "id": "fd0778bf",
   "metadata": {},
   "outputs": [
    {
     "data": {
      "text/plain": [
       "<selenium.webdriver.remote.webelement.WebElement (session=\"d399e1e7f016caee30942d735c564cac\", element=\"64e42542-ea9b-43e4-971e-52db5e4f81cb\")>"
      ]
     },
     "execution_count": 6,
     "metadata": {},
     "output_type": "execute_result"
    }
   ],
   "source": [
    "#finding web element for search icon bar using relative xpath\n",
    "search_locn=driver.find_element(By.XPATH, '/html/body/div[1]/div[2]/div[3]/div/div/div[5]/div/div/div/input')\n",
    "search_locn"
   ]
  },
  {
   "cell_type": "code",
   "execution_count": 7,
   "id": "dcdea0a6",
   "metadata": {},
   "outputs": [],
   "source": [
    "#finding web element for job locn on bar\n",
    "search_locn.send_keys('Bangalore')"
   ]
  },
  {
   "cell_type": "code",
   "execution_count": 10,
   "id": "2cd3a6d8",
   "metadata": {},
   "outputs": [],
   "source": [
    "#Clicking using absolute xpath function\n",
    "search_btn=driver.find_element(By.XPATH, '/html/body/div[1]/div[2]/div[3]/div/div/div[6]')\n",
    "search_btn.click()"
   ]
  },
  {
   "cell_type": "code",
   "execution_count": 11,
   "id": "983bc4f7",
   "metadata": {},
   "outputs": [],
   "source": [
    "#getting the job title\n",
    "job_title=[]\n",
    "\n",
    "job_tag=driver.find_elements(By.XPATH, \"//a[@class='title fw500 ellipsis']\")\n",
    "job_tag=job_tag[0:10]\n",
    "for i in job_tag:\n",
    "    job_title.append(i.text)\n"
   ]
  },
  {
   "cell_type": "code",
   "execution_count": 12,
   "id": "c3852bab",
   "metadata": {},
   "outputs": [],
   "source": [
    "#getting job location\n",
    "job_location=[]\n",
    "\n",
    "job_loc=driver.find_elements(By.XPATH, \"//li[@class='fleft grey-text br2 placeHolderLi location']\")\n",
    "job_loc=job_loc[0:10]\n",
    "for i in job_loc:\n",
    "    job_location.append(i.text)"
   ]
  },
  {
   "cell_type": "code",
   "execution_count": 13,
   "id": "f090a130",
   "metadata": {},
   "outputs": [],
   "source": [
    "#getting company name\n",
    "company=[]\n",
    "\n",
    "comp=driver.find_elements(By.XPATH, \"//div[@class='mt-7 companyInfo subheading lh16']\")\n",
    "comp=comp[0:10]\n",
    "for i in comp:\n",
    "    company.append(i.text.split('\\n')[0])"
   ]
  },
  {
   "cell_type": "code",
   "execution_count": 14,
   "id": "2128ecb1",
   "metadata": {},
   "outputs": [],
   "source": [
    "#Experience\n",
    "exp=[]\n",
    "\n",
    "expn=driver.find_elements(By.XPATH,'//li[@class=\"fleft grey-text br2 placeHolderLi experience\"]')\n",
    "expn=expn[0:10]\n",
    "for i in expn:\n",
    "    exp.append(i.text)\n",
    "driver.close()"
   ]
  },
  {
   "cell_type": "code",
   "execution_count": 15,
   "id": "fd3be757",
   "metadata": {},
   "outputs": [
    {
     "data": {
      "text/html": [
       "<div>\n",
       "<style scoped>\n",
       "    .dataframe tbody tr th:only-of-type {\n",
       "        vertical-align: middle;\n",
       "    }\n",
       "\n",
       "    .dataframe tbody tr th {\n",
       "        vertical-align: top;\n",
       "    }\n",
       "\n",
       "    .dataframe thead th {\n",
       "        text-align: right;\n",
       "    }\n",
       "</style>\n",
       "<table border=\"1\" class=\"dataframe\">\n",
       "  <thead>\n",
       "    <tr style=\"text-align: right;\">\n",
       "      <th></th>\n",
       "      <th>Job-Title</th>\n",
       "      <th>Job-Location</th>\n",
       "      <th>Company_Name</th>\n",
       "      <th>Experience_Required</th>\n",
       "    </tr>\n",
       "  </thead>\n",
       "  <tbody>\n",
       "    <tr>\n",
       "      <th>0</th>\n",
       "      <td>Sr.Business Data Analyst</td>\n",
       "      <td>Bangalore/Bengaluru, karnataka\\n(WFH during Co...</td>\n",
       "      <td>Collabera</td>\n",
       "      <td>6-11 Yrs</td>\n",
       "    </tr>\n",
       "    <tr>\n",
       "      <th>1</th>\n",
       "      <td>Sr Data Analyst</td>\n",
       "      <td>Bangalore/Bengaluru</td>\n",
       "      <td>Thomson Reuters</td>\n",
       "      <td>5-8 Yrs</td>\n",
       "    </tr>\n",
       "    <tr>\n",
       "      <th>2</th>\n",
       "      <td>Senior Data Analysis Analyst</td>\n",
       "      <td>Bangalore/Bengaluru, Pune, Chennai</td>\n",
       "      <td>Capco</td>\n",
       "      <td>7-12 Yrs</td>\n",
       "    </tr>\n",
       "    <tr>\n",
       "      <th>3</th>\n",
       "      <td>Job opportunity For Data Analyst at Trellance ...</td>\n",
       "      <td>Bangalore/Bengaluru, Ahmedabad</td>\n",
       "      <td>CURise Analytics Pvt. Ltd.</td>\n",
       "      <td>0-2 Yrs</td>\n",
       "    </tr>\n",
       "    <tr>\n",
       "      <th>4</th>\n",
       "      <td>Data Analyst</td>\n",
       "      <td>Bangalore/Bengaluru, Noida, Hyderabad/Secunder...</td>\n",
       "      <td>Wipro</td>\n",
       "      <td>4-9 Yrs</td>\n",
       "    </tr>\n",
       "    <tr>\n",
       "      <th>5</th>\n",
       "      <td>Associate Data Analyst</td>\n",
       "      <td>Bangalore/Bengaluru</td>\n",
       "      <td>Optum</td>\n",
       "      <td>2-7 Yrs</td>\n",
       "    </tr>\n",
       "    <tr>\n",
       "      <th>6</th>\n",
       "      <td>Associate Data Analyst</td>\n",
       "      <td>Bangalore/Bengaluru</td>\n",
       "      <td>Optum</td>\n",
       "      <td>1-4 Yrs</td>\n",
       "    </tr>\n",
       "    <tr>\n",
       "      <th>7</th>\n",
       "      <td>Data Analyst</td>\n",
       "      <td>Bangalore/Bengaluru</td>\n",
       "      <td>Thomson Reuters</td>\n",
       "      <td>2-3 Yrs</td>\n",
       "    </tr>\n",
       "    <tr>\n",
       "      <th>8</th>\n",
       "      <td>Senior Data Analyst</td>\n",
       "      <td>Bangalore/Bengaluru(Old Madras Road)</td>\n",
       "      <td>KrazyBee</td>\n",
       "      <td>3-6 Yrs</td>\n",
       "    </tr>\n",
       "    <tr>\n",
       "      <th>9</th>\n",
       "      <td>Financial Data Analyst</td>\n",
       "      <td>Bangalore/Bengaluru</td>\n",
       "      <td>Nuance India</td>\n",
       "      <td>3-8 Yrs</td>\n",
       "    </tr>\n",
       "  </tbody>\n",
       "</table>\n",
       "</div>"
      ],
      "text/plain": [
       "                                           Job-Title  \\\n",
       "0                           Sr.Business Data Analyst   \n",
       "1                                    Sr Data Analyst   \n",
       "2                       Senior Data Analysis Analyst   \n",
       "3  Job opportunity For Data Analyst at Trellance ...   \n",
       "4                                       Data Analyst   \n",
       "5                             Associate Data Analyst   \n",
       "6                             Associate Data Analyst   \n",
       "7                                       Data Analyst   \n",
       "8                                Senior Data Analyst   \n",
       "9                             Financial Data Analyst   \n",
       "\n",
       "                                        Job-Location  \\\n",
       "0  Bangalore/Bengaluru, karnataka\\n(WFH during Co...   \n",
       "1                                Bangalore/Bengaluru   \n",
       "2                 Bangalore/Bengaluru, Pune, Chennai   \n",
       "3                     Bangalore/Bengaluru, Ahmedabad   \n",
       "4  Bangalore/Bengaluru, Noida, Hyderabad/Secunder...   \n",
       "5                                Bangalore/Bengaluru   \n",
       "6                                Bangalore/Bengaluru   \n",
       "7                                Bangalore/Bengaluru   \n",
       "8               Bangalore/Bengaluru(Old Madras Road)   \n",
       "9                                Bangalore/Bengaluru   \n",
       "\n",
       "                 Company_Name Experience_Required  \n",
       "0                   Collabera            6-11 Yrs  \n",
       "1             Thomson Reuters             5-8 Yrs  \n",
       "2                       Capco            7-12 Yrs  \n",
       "3  CURise Analytics Pvt. Ltd.             0-2 Yrs  \n",
       "4                       Wipro             4-9 Yrs  \n",
       "5                       Optum             2-7 Yrs  \n",
       "6                       Optum             1-4 Yrs  \n",
       "7             Thomson Reuters             2-3 Yrs  \n",
       "8                    KrazyBee             3-6 Yrs  \n",
       "9                Nuance India             3-8 Yrs  "
      ]
     },
     "execution_count": 15,
     "metadata": {},
     "output_type": "execute_result"
    }
   ],
   "source": [
    "#Creaing the data frame to get top 10 results\n",
    "\n",
    "data=pd.DataFrame({'Job-Title':job_title, 'Job-Location':job_location,'Company_Name':company,'Experience_Required':exp})\n",
    "data"
   ]
  },
  {
   "cell_type": "markdown",
   "id": "10feef89",
   "metadata": {},
   "source": [
    "# Q2: Write a python program to scrape data for “Data Scientist” Job position in “Bangalore” location. \n",
    "You have to scrape the job-title, job-location, company_name. You have to scrape first 10 jobs data.\n"
   ]
  },
  {
   "cell_type": "code",
   "execution_count": 16,
   "id": "8cb7cf7e",
   "metadata": {},
   "outputs": [],
   "source": [
    "#connect to the web driver\n",
    "driver=webdriver.Chrome(r'C:\\Users\\Arpan Pattanayak\\Downloads\\chromedriver_win32\\chromedriver.exe')"
   ]
  },
  {
   "cell_type": "code",
   "execution_count": 17,
   "id": "2a36557f",
   "metadata": {},
   "outputs": [],
   "source": [
    "url = 'https://www.naukri.com/'\n",
    "driver.get(url)"
   ]
  },
  {
   "cell_type": "code",
   "execution_count": 18,
   "id": "ee5b9486",
   "metadata": {},
   "outputs": [],
   "source": [
    "#finding web element for search job bar using id\n",
    "search_job=driver.find_element(By.CLASS_NAME,'suggestor-input')"
   ]
  },
  {
   "cell_type": "code",
   "execution_count": 19,
   "id": "a60bf0ff",
   "metadata": {},
   "outputs": [],
   "source": [
    "#write on search bar\n",
    "search_job.send_keys('Data Scientist')"
   ]
  },
  {
   "cell_type": "code",
   "execution_count": 20,
   "id": "bc8bdeef",
   "metadata": {},
   "outputs": [],
   "source": [
    "#finding web element for search icon bar using relative xpath\n",
    "search_locn=driver.find_element(By.XPATH, '/html/body/div[1]/div[2]/div[3]/div/div/div[5]/div/div/div/input')\n",
    "search_locn.send_keys('Bangalore')"
   ]
  },
  {
   "cell_type": "code",
   "execution_count": 22,
   "id": "cfbdc52f",
   "metadata": {},
   "outputs": [],
   "source": [
    "#Clicking using absolute xpath function\n",
    "search_btn=driver.find_element(By.XPATH, '/html/body/div[1]/div[2]/div[3]/div/div/div[6]')\n",
    "search_btn.click()"
   ]
  },
  {
   "cell_type": "code",
   "execution_count": 23,
   "id": "cac207b0",
   "metadata": {},
   "outputs": [],
   "source": [
    "job_title=[]\n",
    "job_location=[]\n",
    "company=[]\n",
    "\n",
    "job_tag=driver.find_elements(By.XPATH, \"//a[@class='title fw500 ellipsis']\")\n",
    "job_tag=job_tag[0:10]\n",
    "for i in job_tag:\n",
    "    job_title.append(i.text)\n",
    "    \n",
    "job_loc=driver.find_elements(By.XPATH, \"//li[@class='fleft grey-text br2 placeHolderLi location']\")\n",
    "job_loc=job_loc[0:10]\n",
    "for i in job_loc:\n",
    "    job_location.append(i.text)\n",
    "    \n",
    "comp=driver.find_elements(By.XPATH, \"//div[@class='mt-7 companyInfo subheading lh16']\")\n",
    "comp=comp[0:10]\n",
    "for i in comp:\n",
    "    company.append(i.text.split('\\n')[0])\n",
    "    \n",
    "driver.close()\n",
    "\n"
   ]
  },
  {
   "cell_type": "code",
   "execution_count": 24,
   "id": "b71a8a31",
   "metadata": {},
   "outputs": [
    {
     "data": {
      "text/html": [
       "<div>\n",
       "<style scoped>\n",
       "    .dataframe tbody tr th:only-of-type {\n",
       "        vertical-align: middle;\n",
       "    }\n",
       "\n",
       "    .dataframe tbody tr th {\n",
       "        vertical-align: top;\n",
       "    }\n",
       "\n",
       "    .dataframe thead th {\n",
       "        text-align: right;\n",
       "    }\n",
       "</style>\n",
       "<table border=\"1\" class=\"dataframe\">\n",
       "  <thead>\n",
       "    <tr style=\"text-align: right;\">\n",
       "      <th></th>\n",
       "      <th>Job-Title</th>\n",
       "      <th>Job-Location</th>\n",
       "      <th>Company_Name</th>\n",
       "    </tr>\n",
       "  </thead>\n",
       "  <tbody>\n",
       "    <tr>\n",
       "      <th>0</th>\n",
       "      <td>Data Scientist/ Senior Data Scientist</td>\n",
       "      <td>Bangalore/Bengaluru, Pune, Gurgaon/Gurugram, C...</td>\n",
       "      <td>Fractal Analytics</td>\n",
       "    </tr>\n",
       "    <tr>\n",
       "      <th>1</th>\n",
       "      <td>Urgent Job Opening For AI Practitioner - Data ...</td>\n",
       "      <td>Bangalore/Bengaluru, Kochi/Cochin, New Delhi, ...</td>\n",
       "      <td>Wipro</td>\n",
       "    </tr>\n",
       "    <tr>\n",
       "      <th>2</th>\n",
       "      <td>Hiring For Senior Data Scientist</td>\n",
       "      <td>Bangalore/Bengaluru, Pune</td>\n",
       "      <td>TATA CONSULTANCY SERVICES (TCS)</td>\n",
       "    </tr>\n",
       "    <tr>\n",
       "      <th>3</th>\n",
       "      <td>Dataiku Consultant</td>\n",
       "      <td>Bangalore/Bengaluru, Pune, Chennai</td>\n",
       "      <td>Wipro</td>\n",
       "    </tr>\n",
       "    <tr>\n",
       "      <th>4</th>\n",
       "      <td>Data Scientist</td>\n",
       "      <td>Bangalore/Bengaluru</td>\n",
       "      <td>Applied Materials</td>\n",
       "    </tr>\n",
       "    <tr>\n",
       "      <th>5</th>\n",
       "      <td>Data &amp; Analytics Tech - Informatica Cloud- Sen...</td>\n",
       "      <td>Bangalore/Bengaluru</td>\n",
       "      <td>PwC</td>\n",
       "    </tr>\n",
       "    <tr>\n",
       "      <th>6</th>\n",
       "      <td>Data Scientist: Advanced Analytics</td>\n",
       "      <td>Bangalore/Bengaluru</td>\n",
       "      <td>IBM</td>\n",
       "    </tr>\n",
       "    <tr>\n",
       "      <th>7</th>\n",
       "      <td>Research Scientist</td>\n",
       "      <td>Bangalore/Bengaluru</td>\n",
       "      <td>IBM</td>\n",
       "    </tr>\n",
       "    <tr>\n",
       "      <th>8</th>\n",
       "      <td>Principal - Data Scientist</td>\n",
       "      <td>Bangalore/Bengaluru</td>\n",
       "      <td>Schneider Electric</td>\n",
       "    </tr>\n",
       "    <tr>\n",
       "      <th>9</th>\n",
       "      <td>Research and Development -AI/ML -(PhD )</td>\n",
       "      <td>Bangalore/Bengaluru, Noida, Hyderabad/Secunder...</td>\n",
       "      <td>EXL</td>\n",
       "    </tr>\n",
       "  </tbody>\n",
       "</table>\n",
       "</div>"
      ],
      "text/plain": [
       "                                           Job-Title  \\\n",
       "0              Data Scientist/ Senior Data Scientist   \n",
       "1  Urgent Job Opening For AI Practitioner - Data ...   \n",
       "2                   Hiring For Senior Data Scientist   \n",
       "3                                 Dataiku Consultant   \n",
       "4                                     Data Scientist   \n",
       "5  Data & Analytics Tech - Informatica Cloud- Sen...   \n",
       "6                 Data Scientist: Advanced Analytics   \n",
       "7                                 Research Scientist   \n",
       "8                         Principal - Data Scientist   \n",
       "9            Research and Development -AI/ML -(PhD )   \n",
       "\n",
       "                                        Job-Location  \\\n",
       "0  Bangalore/Bengaluru, Pune, Gurgaon/Gurugram, C...   \n",
       "1  Bangalore/Bengaluru, Kochi/Cochin, New Delhi, ...   \n",
       "2                          Bangalore/Bengaluru, Pune   \n",
       "3                 Bangalore/Bengaluru, Pune, Chennai   \n",
       "4                                Bangalore/Bengaluru   \n",
       "5                                Bangalore/Bengaluru   \n",
       "6                                Bangalore/Bengaluru   \n",
       "7                                Bangalore/Bengaluru   \n",
       "8                                Bangalore/Bengaluru   \n",
       "9  Bangalore/Bengaluru, Noida, Hyderabad/Secunder...   \n",
       "\n",
       "                      Company_Name  \n",
       "0                Fractal Analytics  \n",
       "1                            Wipro  \n",
       "2  TATA CONSULTANCY SERVICES (TCS)  \n",
       "3                            Wipro  \n",
       "4                Applied Materials  \n",
       "5                              PwC  \n",
       "6                              IBM  \n",
       "7                              IBM  \n",
       "8               Schneider Electric  \n",
       "9                              EXL  "
      ]
     },
     "execution_count": 24,
     "metadata": {},
     "output_type": "execute_result"
    }
   ],
   "source": [
    "#Creating data frame to get to 10 jobs data\n",
    "data=pd.DataFrame({'Job-Title':job_title, 'Job-Location':job_location,'Company_Name':company})\n",
    "data"
   ]
  },
  {
   "cell_type": "markdown",
   "id": "e80f0f25",
   "metadata": {},
   "source": [
    "# Q3: In this question you have to scrape data using the filters available on the webpage"
   ]
  },
  {
   "cell_type": "code",
   "execution_count": 25,
   "id": "3c2cc94a",
   "metadata": {},
   "outputs": [],
   "source": [
    "#connect to the web driver\n",
    "driver=webdriver.Chrome(r'C:\\Users\\Arpan Pattanayak\\Downloads\\chromedriver_win32\\chromedriver.exe')"
   ]
  },
  {
   "cell_type": "code",
   "execution_count": 26,
   "id": "83bd6936",
   "metadata": {},
   "outputs": [],
   "source": [
    "url = 'https://www.naukri.com/'\n",
    "driver.get(url)"
   ]
  },
  {
   "cell_type": "code",
   "execution_count": 27,
   "id": "2a668af5",
   "metadata": {},
   "outputs": [],
   "source": [
    "#finding web element for search job bar using id\n",
    "search_job=driver.find_element(By.CLASS_NAME,'suggestor-input')"
   ]
  },
  {
   "cell_type": "code",
   "execution_count": 28,
   "id": "dff4e05e",
   "metadata": {},
   "outputs": [],
   "source": [
    "#write on search bar\n",
    "search_job.send_keys('Data Scientist')"
   ]
  },
  {
   "cell_type": "code",
   "execution_count": 29,
   "id": "9b5e9610",
   "metadata": {},
   "outputs": [],
   "source": [
    "#finding web element for search icon bar using relative xpath\n",
    "search_btn=driver.find_element(By.XPATH, '/html/body/div/div[2]/div[3]/div/div/div[6]')\n"
   ]
  },
  {
   "cell_type": "code",
   "execution_count": 30,
   "id": "0022b4b9",
   "metadata": {},
   "outputs": [],
   "source": [
    "search_btn.click()"
   ]
  },
  {
   "cell_type": "code",
   "execution_count": 33,
   "id": "4aa9be1c",
   "metadata": {},
   "outputs": [],
   "source": [
    "loc_filter=driver.find_element(By.XPATH, '/html/body/div[1]/div[3]/div[2]/section[1]/div[2]/div[5]/div[2]/div[3]/label/p/span[1]')"
   ]
  },
  {
   "cell_type": "code",
   "execution_count": 34,
   "id": "83a5d727",
   "metadata": {},
   "outputs": [],
   "source": [
    "loc_filter.click()"
   ]
  },
  {
   "cell_type": "code",
   "execution_count": 35,
   "id": "6ef732ac",
   "metadata": {},
   "outputs": [],
   "source": [
    "sal_filter=driver.find_element(By.XPATH,'/html/body/div[1]/div[3]/div[2]/section[1]/div[2]/div[6]/div[2]/div[2]/label/p/span[1]')"
   ]
  },
  {
   "cell_type": "code",
   "execution_count": 36,
   "id": "e389fafd",
   "metadata": {},
   "outputs": [],
   "source": [
    "sal_filter.click()"
   ]
  },
  {
   "cell_type": "code",
   "execution_count": 37,
   "id": "560067c7",
   "metadata": {},
   "outputs": [],
   "source": [
    "job_title=[]\n",
    "job_location=[]\n",
    "company=[]\n",
    "exp=[]\n",
    "\n",
    "job_tag=driver.find_elements(By.XPATH, \"//a[@class='title fw500 ellipsis']\")\n",
    "job_tag=job_tag[0:10]\n",
    "for i in job_tag:\n",
    "    job_title.append(i.text)\n",
    "    \n",
    "job_loc=driver.find_elements(By.XPATH, \"//li[@class='fleft grey-text br2 placeHolderLi location']\")\n",
    "job_loc=job_loc[0:10]\n",
    "for i in job_loc:\n",
    "    job_location.append(i.text)\n",
    "    \n",
    "comp=driver.find_elements(By.XPATH, \"//div[@class='mt-7 companyInfo subheading lh16']\")\n",
    "comp=comp[0:10]\n",
    "for i in comp:\n",
    "    company.append(i.text.split('\\n')[0])\n",
    "    \n",
    "expn=driver.find_elements(By.XPATH,'//li[@class=\"fleft grey-text br2 placeHolderLi experience\"]')\n",
    "expn=expn[0:10]\n",
    "for i in expn:\n",
    "    exp.append(i.text)\n",
    "\n",
    "    \n",
    "driver.close()"
   ]
  },
  {
   "cell_type": "code",
   "execution_count": 38,
   "id": "b2d19c07",
   "metadata": {},
   "outputs": [
    {
     "data": {
      "text/html": [
       "<div>\n",
       "<style scoped>\n",
       "    .dataframe tbody tr th:only-of-type {\n",
       "        vertical-align: middle;\n",
       "    }\n",
       "\n",
       "    .dataframe tbody tr th {\n",
       "        vertical-align: top;\n",
       "    }\n",
       "\n",
       "    .dataframe thead th {\n",
       "        text-align: right;\n",
       "    }\n",
       "</style>\n",
       "<table border=\"1\" class=\"dataframe\">\n",
       "  <thead>\n",
       "    <tr style=\"text-align: right;\">\n",
       "      <th></th>\n",
       "      <th>Job-Title</th>\n",
       "      <th>Job-Location</th>\n",
       "      <th>Company_Name</th>\n",
       "      <th>Experience_Required</th>\n",
       "    </tr>\n",
       "  </thead>\n",
       "  <tbody>\n",
       "    <tr>\n",
       "      <th>0</th>\n",
       "      <td>DigitalBCG GAMMA Data Scientist</td>\n",
       "      <td>New Delhi, Bangalore/Bengaluru</td>\n",
       "      <td>Boston Consulting Group</td>\n",
       "      <td>2-5 Yrs</td>\n",
       "    </tr>\n",
       "    <tr>\n",
       "      <th>1</th>\n",
       "      <td>Senior Associate - Data Science</td>\n",
       "      <td>Mumbai, Hyderabad/Secunderabad, Gurgaon/Gurugr...</td>\n",
       "      <td>Black Turtle</td>\n",
       "      <td>4-7 Yrs</td>\n",
       "    </tr>\n",
       "    <tr>\n",
       "      <th>2</th>\n",
       "      <td>Data Scientist - Noida/Bangalore</td>\n",
       "      <td>Noida, Bangalore/Bengaluru</td>\n",
       "      <td>EXL</td>\n",
       "      <td>5-10 Yrs</td>\n",
       "    </tr>\n",
       "    <tr>\n",
       "      <th>3</th>\n",
       "      <td>Data Scientist For Healthcare Product team</td>\n",
       "      <td>Delhi / NCR, Chennai, Bangalore/Bengaluru</td>\n",
       "      <td>8KMiles Software Services</td>\n",
       "      <td>2-7 Yrs</td>\n",
       "    </tr>\n",
       "    <tr>\n",
       "      <th>4</th>\n",
       "      <td>Data Scientist For Healthcare Product team</td>\n",
       "      <td>Delhi / NCR, Chennai, Bangalore/Bengaluru</td>\n",
       "      <td>8KMiles Software Services</td>\n",
       "      <td>2-7 Yrs</td>\n",
       "    </tr>\n",
       "    <tr>\n",
       "      <th>5</th>\n",
       "      <td>Data Scientist - Machine learning AI</td>\n",
       "      <td>Delhi / NCR, Bangalore/Bengaluru, Mumbai (All ...</td>\n",
       "      <td>Teq Analytics</td>\n",
       "      <td>3-8 Yrs</td>\n",
       "    </tr>\n",
       "    <tr>\n",
       "      <th>6</th>\n",
       "      <td>Data Scientist - MIND Infotech</td>\n",
       "      <td>Noida</td>\n",
       "      <td>MOTHERSONSUMI INFOTECH &amp; DESIGNS LIMITED</td>\n",
       "      <td>4-8 Yrs</td>\n",
       "    </tr>\n",
       "    <tr>\n",
       "      <th>7</th>\n",
       "      <td>Data Scientist - Engine Algorithm</td>\n",
       "      <td>Delhi / NCR, Kolkata, Mumbai, Hyderabad/Secund...</td>\n",
       "      <td>Primo Hiring</td>\n",
       "      <td>1-3 Yrs</td>\n",
       "    </tr>\n",
       "    <tr>\n",
       "      <th>8</th>\n",
       "      <td>Knowledge/Data Scientist</td>\n",
       "      <td>Delhi / NCR</td>\n",
       "      <td>BOLD Technology Systems</td>\n",
       "      <td>3-6 Yrs</td>\n",
       "    </tr>\n",
       "    <tr>\n",
       "      <th>9</th>\n",
       "      <td>Data Scientist</td>\n",
       "      <td>Delhi / NCR, Pune, Bangalore/Bengaluru</td>\n",
       "      <td>Mount Talent Consulting Private Limited</td>\n",
       "      <td>2-4 Yrs</td>\n",
       "    </tr>\n",
       "  </tbody>\n",
       "</table>\n",
       "</div>"
      ],
      "text/plain": [
       "                                    Job-Title  \\\n",
       "0             DigitalBCG GAMMA Data Scientist   \n",
       "1             Senior Associate - Data Science   \n",
       "2            Data Scientist - Noida/Bangalore   \n",
       "3  Data Scientist For Healthcare Product team   \n",
       "4  Data Scientist For Healthcare Product team   \n",
       "5        Data Scientist - Machine learning AI   \n",
       "6              Data Scientist - MIND Infotech   \n",
       "7           Data Scientist - Engine Algorithm   \n",
       "8                    Knowledge/Data Scientist   \n",
       "9                              Data Scientist   \n",
       "\n",
       "                                        Job-Location  \\\n",
       "0                     New Delhi, Bangalore/Bengaluru   \n",
       "1  Mumbai, Hyderabad/Secunderabad, Gurgaon/Gurugr...   \n",
       "2                         Noida, Bangalore/Bengaluru   \n",
       "3          Delhi / NCR, Chennai, Bangalore/Bengaluru   \n",
       "4          Delhi / NCR, Chennai, Bangalore/Bengaluru   \n",
       "5  Delhi / NCR, Bangalore/Bengaluru, Mumbai (All ...   \n",
       "6                                              Noida   \n",
       "7  Delhi / NCR, Kolkata, Mumbai, Hyderabad/Secund...   \n",
       "8                                        Delhi / NCR   \n",
       "9             Delhi / NCR, Pune, Bangalore/Bengaluru   \n",
       "\n",
       "                               Company_Name Experience_Required  \n",
       "0                   Boston Consulting Group             2-5 Yrs  \n",
       "1                              Black Turtle             4-7 Yrs  \n",
       "2                                       EXL            5-10 Yrs  \n",
       "3                 8KMiles Software Services             2-7 Yrs  \n",
       "4                 8KMiles Software Services             2-7 Yrs  \n",
       "5                             Teq Analytics             3-8 Yrs  \n",
       "6  MOTHERSONSUMI INFOTECH & DESIGNS LIMITED             4-8 Yrs  \n",
       "7                              Primo Hiring             1-3 Yrs  \n",
       "8                   BOLD Technology Systems             3-6 Yrs  \n",
       "9   Mount Talent Consulting Private Limited             2-4 Yrs  "
      ]
     },
     "execution_count": 38,
     "metadata": {},
     "output_type": "execute_result"
    }
   ],
   "source": [
    "#Creating data frame to get the result\n",
    "data=pd.DataFrame({'Job-Title':job_title, 'Job-Location':job_location,'Company_Name':company,'Experience_Required':exp})\n",
    "data"
   ]
  },
  {
   "cell_type": "markdown",
   "id": "3a7f6d9e",
   "metadata": {},
   "source": [
    "# Q4: Scrape data of first 100 sunglasses listings on flipkart.com. You have to scrape four attributes:\n",
    "1. Brand\n",
    "2. Product Description\n",
    "3. Price"
   ]
  },
  {
   "cell_type": "code",
   "execution_count": 39,
   "id": "0b66514f",
   "metadata": {},
   "outputs": [],
   "source": [
    "#connect to the web driver\n",
    "driver=webdriver.Chrome(r'C:\\Users\\Arpan Pattanayak\\Downloads\\chromedriver_win32\\chromedriver.exe')"
   ]
  },
  {
   "cell_type": "code",
   "execution_count": 40,
   "id": "3b6f00ba",
   "metadata": {},
   "outputs": [],
   "source": [
    "url = 'https://www.flipkart.com/'\n",
    "driver.get(url)"
   ]
  },
  {
   "cell_type": "code",
   "execution_count": 41,
   "id": "8cfcdaa0",
   "metadata": {},
   "outputs": [],
   "source": [
    "time.sleep(3)"
   ]
  },
  {
   "cell_type": "code",
   "execution_count": 42,
   "id": "d32d6581",
   "metadata": {},
   "outputs": [],
   "source": [
    "b=driver.find_element(By.XPATH,'/html/body/div[2]/div/div/button')\n",
    "b.click()"
   ]
  },
  {
   "cell_type": "code",
   "execution_count": 43,
   "id": "dca71b07",
   "metadata": {},
   "outputs": [],
   "source": [
    "search_tag=driver.find_element(By.CLASS_NAME, \"_3704LK\")\n",
    "search_tag.send_keys(\"Sunglasses\")"
   ]
  },
  {
   "cell_type": "code",
   "execution_count": 44,
   "id": "78549d2d",
   "metadata": {},
   "outputs": [],
   "source": [
    "search_button=driver.find_element(By.CLASS_NAME, \"L0Z3Pu\")\n",
    "search_button.click()"
   ]
  },
  {
   "cell_type": "code",
   "execution_count": 45,
   "id": "131fb5ed",
   "metadata": {},
   "outputs": [],
   "source": [
    "# creating required list for processing\n",
    "brand=[]\n",
    "product_dis=[]\n",
    "price=[]\n",
    "discount=[]\n",
    "\n",
    "#Defining a function that include scrapping functions\n",
    "def scrap():\n",
    "    \n",
    "    brnd=driver.find_elements(By.XPATH,'//div[@class=\"_2WkVRV\"]')\n",
    "    for i in brnd:\n",
    "        if(len(brand)==100):\n",
    "            break\n",
    "        else:\n",
    "            brand.append(i.text)\n",
    "        dis=driver.find_elements(By.XPATH,'//a[@class=\"IRpwTa\"]')\n",
    "        for i in dis:\n",
    "            if(len(product_dis)==100):\n",
    "                break\n",
    "            else:\n",
    "                product_dis.append(i.text)\n",
    "        pri=driver.find_elements(By.XPATH,'//div[@class=\"_30jeq3\"]')\n",
    "        for j in pri:\n",
    "            if(len(price)==100):\n",
    "                break\n",
    "            else:\n",
    "                price.append(j.text)\n",
    "        dis=driver.find_elements(By.XPATH,'//div[@class=\"_3Ay6Sb\"]')\n",
    "        for j in dis:\n",
    "            if(len(discount)==100):\n",
    "                break\n",
    "            else:\n",
    "                discount.append(j.text)\n",
    "\n",
    "#now we are going to 100 sunglasses \n",
    "for i in range(0,3):\n",
    "    if(i==0):\n",
    "        scrap()\n",
    "    elif i==1:\n",
    "        driver.find_element(By.CLASS_NAME,\"_1LKTO3\").click()\n",
    "        time.sleep(3)\n",
    "        scrap()\n",
    "    elif(i==2):\n",
    "        driver.find_element(By.XPATH,'/html/body/div[1]/div/div[3]/div[1]/div[2]/div[12]/div/div/nav/a[12]').click()\n",
    "        time.sleep(3)\n",
    "        scrap()\n",
    "driver.close()"
   ]
  },
  {
   "cell_type": "code",
   "execution_count": 46,
   "id": "ee1f0467",
   "metadata": {},
   "outputs": [
    {
     "data": {
      "text/html": [
       "<div>\n",
       "<style scoped>\n",
       "    .dataframe tbody tr th:only-of-type {\n",
       "        vertical-align: middle;\n",
       "    }\n",
       "\n",
       "    .dataframe tbody tr th {\n",
       "        vertical-align: top;\n",
       "    }\n",
       "\n",
       "    .dataframe thead th {\n",
       "        text-align: right;\n",
       "    }\n",
       "</style>\n",
       "<table border=\"1\" class=\"dataframe\">\n",
       "  <thead>\n",
       "    <tr style=\"text-align: right;\">\n",
       "      <th></th>\n",
       "      <th>Brand</th>\n",
       "      <th>Product Details</th>\n",
       "      <th>Price</th>\n",
       "      <th>Discount</th>\n",
       "    </tr>\n",
       "  </thead>\n",
       "  <tbody>\n",
       "    <tr>\n",
       "      <th>0</th>\n",
       "      <td>VINCENT CHASE</td>\n",
       "      <td>by Lenskart Polarized, UV Protection Rectangul...</td>\n",
       "      <td>₹749</td>\n",
       "      <td>62% off</td>\n",
       "    </tr>\n",
       "    <tr>\n",
       "      <th>1</th>\n",
       "      <td>ROYAL SON</td>\n",
       "      <td>Polarized, UV Protection Aviator Sunglasses (57)</td>\n",
       "      <td>₹759</td>\n",
       "      <td>62% off</td>\n",
       "    </tr>\n",
       "    <tr>\n",
       "      <th>2</th>\n",
       "      <td>Elligator</td>\n",
       "      <td>UV Protection Round Sunglasses (54)</td>\n",
       "      <td>₹315</td>\n",
       "      <td>87% off</td>\n",
       "    </tr>\n",
       "    <tr>\n",
       "      <th>3</th>\n",
       "      <td>DAHAAZIL</td>\n",
       "      <td>UV Protection, Night Vision, Riding Glasses Wa...</td>\n",
       "      <td>₹177</td>\n",
       "      <td>82% off</td>\n",
       "    </tr>\n",
       "    <tr>\n",
       "      <th>4</th>\n",
       "      <td>New Specs</td>\n",
       "      <td>UV Protection Rectangular Sunglasses (Free Size)</td>\n",
       "      <td>₹264</td>\n",
       "      <td>89% off</td>\n",
       "    </tr>\n",
       "    <tr>\n",
       "      <th>...</th>\n",
       "      <td>...</td>\n",
       "      <td>...</td>\n",
       "      <td>...</td>\n",
       "      <td>...</td>\n",
       "    </tr>\n",
       "    <tr>\n",
       "      <th>95</th>\n",
       "      <td>ROYAL SON</td>\n",
       "      <td>Polarized, UV Protection Retro Square Sunglass...</td>\n",
       "      <td>₹616</td>\n",
       "      <td>69% off</td>\n",
       "    </tr>\n",
       "    <tr>\n",
       "      <th>96</th>\n",
       "      <td>kingsunglasses</td>\n",
       "      <td>UV Protection Aviator Sunglasses (Free Size)</td>\n",
       "      <td>₹639</td>\n",
       "      <td>20% off</td>\n",
       "    </tr>\n",
       "    <tr>\n",
       "      <th>97</th>\n",
       "      <td>kingsunglasses</td>\n",
       "      <td>UV Protection Aviator Sunglasses (58)</td>\n",
       "      <td>₹359</td>\n",
       "      <td>86% off</td>\n",
       "    </tr>\n",
       "    <tr>\n",
       "      <th>98</th>\n",
       "      <td>Fastrack</td>\n",
       "      <td>Riding Glasses Wrap-around Sunglasses (Free Size)</td>\n",
       "      <td>₹299</td>\n",
       "      <td>88% off</td>\n",
       "    </tr>\n",
       "    <tr>\n",
       "      <th>99</th>\n",
       "      <td>ROYAL SON</td>\n",
       "      <td>Polarized, UV Protection Wayfarer, Retro Squar...</td>\n",
       "      <td>₹664</td>\n",
       "      <td>66% off</td>\n",
       "    </tr>\n",
       "  </tbody>\n",
       "</table>\n",
       "<p>100 rows × 4 columns</p>\n",
       "</div>"
      ],
      "text/plain": [
       "             Brand                                    Product Details Price  \\\n",
       "0    VINCENT CHASE  by Lenskart Polarized, UV Protection Rectangul...  ₹749   \n",
       "1        ROYAL SON   Polarized, UV Protection Aviator Sunglasses (57)  ₹759   \n",
       "2        Elligator                UV Protection Round Sunglasses (54)  ₹315   \n",
       "3         DAHAAZIL  UV Protection, Night Vision, Riding Glasses Wa...  ₹177   \n",
       "4        New Specs   UV Protection Rectangular Sunglasses (Free Size)  ₹264   \n",
       "..             ...                                                ...   ...   \n",
       "95       ROYAL SON  Polarized, UV Protection Retro Square Sunglass...  ₹616   \n",
       "96  kingsunglasses       UV Protection Aviator Sunglasses (Free Size)  ₹639   \n",
       "97  kingsunglasses              UV Protection Aviator Sunglasses (58)  ₹359   \n",
       "98        Fastrack  Riding Glasses Wrap-around Sunglasses (Free Size)  ₹299   \n",
       "99       ROYAL SON  Polarized, UV Protection Wayfarer, Retro Squar...  ₹664   \n",
       "\n",
       "   Discount  \n",
       "0   62% off  \n",
       "1   62% off  \n",
       "2   87% off  \n",
       "3   82% off  \n",
       "4   89% off  \n",
       "..      ...  \n",
       "95  69% off  \n",
       "96  20% off  \n",
       "97  86% off  \n",
       "98  88% off  \n",
       "99  66% off  \n",
       "\n",
       "[100 rows x 4 columns]"
      ]
     },
     "execution_count": 46,
     "metadata": {},
     "output_type": "execute_result"
    }
   ],
   "source": [
    "Sunglass=pd.DataFrame({'Brand':brand,'Product Details':product_dis,'Price':price,'Discount':discount})\n",
    "Sunglass"
   ]
  },
  {
   "cell_type": "markdown",
   "id": "cdadaccc",
   "metadata": {},
   "source": [
    "# Q5: Scrape 100 reviews data from flipkart.com for iphone11 phone.\n",
    "This task will be done in following steps:\n",
    "1. First get the webpage https://www.flipkart.com/\n",
    "2. Enter “iphone 11” in “Search” field .\n",
    "3. Then click the search button."
   ]
  },
  {
   "cell_type": "code",
   "execution_count": 2,
   "id": "f9faddc0",
   "metadata": {},
   "outputs": [],
   "source": [
    "#connect to the web driver\n",
    "driver=webdriver.Chrome(r'C:\\Users\\Arpan Pattanayak\\Downloads\\chromedriver_win32\\chromedriver.exe')"
   ]
  },
  {
   "cell_type": "code",
   "execution_count": 3,
   "id": "2880eaa1",
   "metadata": {},
   "outputs": [],
   "source": [
    "url = 'https://www.flipkart.com/'\n",
    "driver.get(url)"
   ]
  },
  {
   "cell_type": "code",
   "execution_count": 4,
   "id": "15d8dad6",
   "metadata": {},
   "outputs": [],
   "source": [
    "time.sleep(3)"
   ]
  },
  {
   "cell_type": "code",
   "execution_count": 5,
   "id": "6ec753f2",
   "metadata": {},
   "outputs": [],
   "source": [
    "b=driver.find_element(By.XPATH,'/html/body/div[2]/div/div/button')\n",
    "b.click()"
   ]
  },
  {
   "cell_type": "code",
   "execution_count": 6,
   "id": "ac611bae",
   "metadata": {},
   "outputs": [],
   "source": [
    "search_tag=driver.find_element(By.CLASS_NAME,\"_3704LK\")\n",
    "search_tag.send_keys(\"iphone 11\")"
   ]
  },
  {
   "cell_type": "code",
   "execution_count": 7,
   "id": "186c35f6",
   "metadata": {},
   "outputs": [],
   "source": [
    "search_button=driver.find_element(By.CLASS_NAME,\"L0Z3Pu\")\n",
    "search_button.click()"
   ]
  },
  {
   "cell_type": "code",
   "execution_count": 11,
   "id": "21216f92",
   "metadata": {},
   "outputs": [],
   "source": [
    "#Now get the newly opened window\n",
    "driver.get(\"https://www.flipkart.com/apple-iphone-11-white-128-gb/product-reviews/itme32df47ea6742?pid=MOBFWQ6B7KKRXDDS&lid=LSTMOBFWQ6B7KKRXDDSUPVRTR&marketplace=FLIPKART\")"
   ]
  },
  {
   "cell_type": "code",
   "execution_count": 12,
   "id": "a2bc92fa",
   "metadata": {},
   "outputs": [
    {
     "data": {
      "text/plain": [
       "110"
      ]
     },
     "execution_count": 12,
     "metadata": {},
     "output_type": "execute_result"
    }
   ],
   "source": [
    "rating=[]\n",
    "review_sum=[]\n",
    "review_dis=[]\n",
    "\n",
    "j=1\n",
    "def i_scrap():\n",
    "    rate=driver.find_elements(By.XPATH,'//div[@class=\"_3LWZlK _1BLPMq\"]')\n",
    "    for i in rate:\n",
    "        rating.append(i.text)\n",
    "    review=driver.find_elements(By.XPATH,'//p[@class=\"_2-N8zT\"]')\n",
    "    for i in review:\n",
    "        review_sum.append(i.text)\n",
    "    rdis=driver.find_elements(By.XPATH,'//div[@class=\"t-ZTKy\"]')\n",
    "    for i in rdis:\n",
    "        review_dis.append(i.text)\n",
    "i_scrap()\n",
    "next_b=driver.find_elements(By.CLASS_NAME,\"ge-49M\")\n",
    "for b in next_b:\n",
    "    i_scrap()\n",
    "len(rating)\n",
    "\n"
   ]
  },
  {
   "cell_type": "code",
   "execution_count": 13,
   "id": "d7c4e904",
   "metadata": {},
   "outputs": [
    {
     "data": {
      "text/html": [
       "<div>\n",
       "<style scoped>\n",
       "    .dataframe tbody tr th:only-of-type {\n",
       "        vertical-align: middle;\n",
       "    }\n",
       "\n",
       "    .dataframe tbody tr th {\n",
       "        vertical-align: top;\n",
       "    }\n",
       "\n",
       "    .dataframe thead th {\n",
       "        text-align: right;\n",
       "    }\n",
       "</style>\n",
       "<table border=\"1\" class=\"dataframe\">\n",
       "  <thead>\n",
       "    <tr style=\"text-align: right;\">\n",
       "      <th></th>\n",
       "      <th>Rating</th>\n",
       "      <th>Review_Summery</th>\n",
       "      <th>Review_Disciption</th>\n",
       "    </tr>\n",
       "  </thead>\n",
       "  <tbody>\n",
       "    <tr>\n",
       "      <th>0</th>\n",
       "      <td>5</td>\n",
       "      <td>Simply awesome</td>\n",
       "      <td>Really satisfied with the Product I received.....</td>\n",
       "    </tr>\n",
       "    <tr>\n",
       "      <th>1</th>\n",
       "      <td>5</td>\n",
       "      <td>Perfect product!</td>\n",
       "      <td>Amazing phone with great cameras and better ba...</td>\n",
       "    </tr>\n",
       "    <tr>\n",
       "      <th>2</th>\n",
       "      <td>5</td>\n",
       "      <td>Best in the market!</td>\n",
       "      <td>Great iPhone very snappy experience as apple k...</td>\n",
       "    </tr>\n",
       "    <tr>\n",
       "      <th>3</th>\n",
       "      <td>5</td>\n",
       "      <td>Highly recommended</td>\n",
       "      <td>What a camera .....just awesome ..you can feel...</td>\n",
       "    </tr>\n",
       "    <tr>\n",
       "      <th>4</th>\n",
       "      <td>5</td>\n",
       "      <td>Worth every penny</td>\n",
       "      <td>Previously I was using one plus 3t it was a gr...</td>\n",
       "    </tr>\n",
       "    <tr>\n",
       "      <th>...</th>\n",
       "      <td>...</td>\n",
       "      <td>...</td>\n",
       "      <td>...</td>\n",
       "    </tr>\n",
       "    <tr>\n",
       "      <th>95</th>\n",
       "      <td>5</td>\n",
       "      <td>Fabulous!</td>\n",
       "      <td>This is my first iOS phone. I am very happy wi...</td>\n",
       "    </tr>\n",
       "    <tr>\n",
       "      <th>96</th>\n",
       "      <td>5</td>\n",
       "      <td>Great product</td>\n",
       "      <td>Amazing Powerful and Durable Gadget.\\n\\nI’m am...</td>\n",
       "    </tr>\n",
       "    <tr>\n",
       "      <th>97</th>\n",
       "      <td>5</td>\n",
       "      <td>Worth every penny</td>\n",
       "      <td>i11 is worthy to buy, too much happy with the ...</td>\n",
       "    </tr>\n",
       "    <tr>\n",
       "      <th>98</th>\n",
       "      <td>4</td>\n",
       "      <td>Good choice</td>\n",
       "      <td>So far it’s been an AMAZING experience coming ...</td>\n",
       "    </tr>\n",
       "    <tr>\n",
       "      <th>99</th>\n",
       "      <td>5</td>\n",
       "      <td>Highly recommended</td>\n",
       "      <td>iphone 11 is a very good phone to buy only if ...</td>\n",
       "    </tr>\n",
       "  </tbody>\n",
       "</table>\n",
       "<p>100 rows × 3 columns</p>\n",
       "</div>"
      ],
      "text/plain": [
       "   Rating       Review_Summery  \\\n",
       "0       5       Simply awesome   \n",
       "1       5     Perfect product!   \n",
       "2       5  Best in the market!   \n",
       "3       5   Highly recommended   \n",
       "4       5    Worth every penny   \n",
       "..    ...                  ...   \n",
       "95      5            Fabulous!   \n",
       "96      5        Great product   \n",
       "97      5    Worth every penny   \n",
       "98      4          Good choice   \n",
       "99      5   Highly recommended   \n",
       "\n",
       "                                    Review_Disciption  \n",
       "0   Really satisfied with the Product I received.....  \n",
       "1   Amazing phone with great cameras and better ba...  \n",
       "2   Great iPhone very snappy experience as apple k...  \n",
       "3   What a camera .....just awesome ..you can feel...  \n",
       "4   Previously I was using one plus 3t it was a gr...  \n",
       "..                                                ...  \n",
       "95  This is my first iOS phone. I am very happy wi...  \n",
       "96  Amazing Powerful and Durable Gadget.\\n\\nI’m am...  \n",
       "97  i11 is worthy to buy, too much happy with the ...  \n",
       "98  So far it’s been an AMAZING experience coming ...  \n",
       "99  iphone 11 is a very good phone to buy only if ...  \n",
       "\n",
       "[100 rows x 3 columns]"
      ]
     },
     "execution_count": 13,
     "metadata": {},
     "output_type": "execute_result"
    }
   ],
   "source": [
    "iphone_rating=pd.DataFrame({'Rating':rating,'Review_Summery':review_sum,'Review_Disciption':review_dis})\n",
    "iphone_rating[:100]"
   ]
  },
  {
   "cell_type": "markdown",
   "id": "420bdf7d",
   "metadata": {},
   "source": [
    "# Q6: Scrape data for first 100 sneakers you find when you visit flipkart.com and search for “sneakers” in the search field."
   ]
  },
  {
   "cell_type": "code",
   "execution_count": 73,
   "id": "035ab3d5",
   "metadata": {},
   "outputs": [],
   "source": [
    "#connect to the web driver\n",
    "driver=webdriver.Chrome(r'C:\\Users\\Arpan Pattanayak\\Downloads\\chromedriver_win32\\chromedriver.exe')"
   ]
  },
  {
   "cell_type": "code",
   "execution_count": 74,
   "id": "835ef677",
   "metadata": {},
   "outputs": [],
   "source": [
    "url = 'https://www.flipkart.com/'\n",
    "driver.get(url)"
   ]
  },
  {
   "cell_type": "code",
   "execution_count": 75,
   "id": "3ed049f4",
   "metadata": {},
   "outputs": [],
   "source": [
    "time.sleep(3)"
   ]
  },
  {
   "cell_type": "code",
   "execution_count": 76,
   "id": "e21d4b20",
   "metadata": {},
   "outputs": [],
   "source": [
    "b=driver.find_element(By.XPATH,'/html/body/div[2]/div/div/button')\n",
    "b.click()"
   ]
  },
  {
   "cell_type": "code",
   "execution_count": 77,
   "id": "b968a88a",
   "metadata": {},
   "outputs": [],
   "source": [
    "search_tag=driver.find_element(By.CLASS_NAME,\"_3704LK\")\n",
    "search_tag.send_keys(\"sneakers\")"
   ]
  },
  {
   "cell_type": "code",
   "execution_count": 78,
   "id": "a535194b",
   "metadata": {},
   "outputs": [],
   "source": [
    "time.sleep(3)"
   ]
  },
  {
   "cell_type": "code",
   "execution_count": 79,
   "id": "69e3910d",
   "metadata": {},
   "outputs": [],
   "source": [
    "search_button=driver.find_element(By.CLASS_NAME, \"L0Z3Pu\")\n",
    "search_button.click()"
   ]
  },
  {
   "cell_type": "code",
   "execution_count": 80,
   "id": "8d33a832",
   "metadata": {},
   "outputs": [],
   "source": [
    "brand=[]\n",
    "product_dis=[]\n",
    "price=[]\n",
    "discount=[]\n",
    "\n",
    "#Defining a function that include scrapping functions\n",
    "def scrap():\n",
    "    \n",
    "    brnd=driver.find_elements(By.XPATH, '//div[@class=\"_2WkVRV\"]')\n",
    "    for i in brnd:\n",
    "        if(len(brand)==100):\n",
    "            break\n",
    "        else:\n",
    "            brand.append(i.text)\n",
    "        dis=driver.find_elements(By.XPATH, '//a[@class=\"IRpwTa\"]')\n",
    "        for i in dis:\n",
    "            if(len(product_dis)==100):\n",
    "                break\n",
    "            else:\n",
    "                product_dis.append(i.text)\n",
    "        pri=driver.find_elements(By.XPATH, '//div[@class=\"_30jeq3\"]')\n",
    "        for j in pri:\n",
    "            if(len(price)==100):\n",
    "                break\n",
    "            else:\n",
    "                price.append(j.text)\n",
    "        dis=driver.find_elements(By.XPATH, '//div[@class=\"_3Ay6Sb\"]')\n",
    "        for j in dis:\n",
    "            if(len(discount)==100):\n",
    "                break\n",
    "            else:\n",
    "                discount.append(j.text)\n",
    "\n",
    "#now we are going to 100 sunglasses \n",
    "for i in range(0,3):\n",
    "    if(i==0):\n",
    "        scrap()\n",
    "    elif i==1:\n",
    "        driver.find_element(By.CLASS_NAME,\"_1LKTO3\").click()\n",
    "        time.sleep(3)\n",
    "        scrap()\n",
    "    elif(i==2):\n",
    "        driver.find_element(By.XPATH, '/html/body/div[1]/div/div[3]/div[1]/div[2]/div[12]/div/div/nav/a[12]').click()\n",
    "        time.sleep(3)\n",
    "        scrap()\n",
    "        \n",
    "driver.close()"
   ]
  },
  {
   "cell_type": "code",
   "execution_count": 81,
   "id": "112c7763",
   "metadata": {},
   "outputs": [
    {
     "data": {
      "text/html": [
       "<div>\n",
       "<style scoped>\n",
       "    .dataframe tbody tr th:only-of-type {\n",
       "        vertical-align: middle;\n",
       "    }\n",
       "\n",
       "    .dataframe tbody tr th {\n",
       "        vertical-align: top;\n",
       "    }\n",
       "\n",
       "    .dataframe thead th {\n",
       "        text-align: right;\n",
       "    }\n",
       "</style>\n",
       "<table border=\"1\" class=\"dataframe\">\n",
       "  <thead>\n",
       "    <tr style=\"text-align: right;\">\n",
       "      <th></th>\n",
       "      <th>Brand</th>\n",
       "      <th>Product Details</th>\n",
       "      <th>Price</th>\n",
       "      <th>Discount</th>\n",
       "    </tr>\n",
       "  </thead>\n",
       "  <tbody>\n",
       "    <tr>\n",
       "      <th>0</th>\n",
       "      <td>luxury fashion</td>\n",
       "      <td>luxury fashionable casual sneaker shoes Sneake...</td>\n",
       "      <td>₹499</td>\n",
       "      <td>61% off</td>\n",
       "    </tr>\n",
       "    <tr>\n",
       "      <th>1</th>\n",
       "      <td>HOTSTYLE</td>\n",
       "      <td>Sneakers Sneakers For Men</td>\n",
       "      <td>₹295</td>\n",
       "      <td>40% off</td>\n",
       "    </tr>\n",
       "    <tr>\n",
       "      <th>2</th>\n",
       "      <td>WOODLAND</td>\n",
       "      <td>Sneakers For Men</td>\n",
       "      <td>₹2,096</td>\n",
       "      <td>30% off</td>\n",
       "    </tr>\n",
       "    <tr>\n",
       "      <th>3</th>\n",
       "      <td>BRUTON</td>\n",
       "      <td>Modern Trendy Sneakers Shoes Sneakers For Men</td>\n",
       "      <td>₹269</td>\n",
       "      <td>79% off</td>\n",
       "    </tr>\n",
       "    <tr>\n",
       "      <th>4</th>\n",
       "      <td>BRUTON</td>\n",
       "      <td>Modern Trendy Sneakers Shoes Sneakers For Men</td>\n",
       "      <td>₹299</td>\n",
       "      <td>76% off</td>\n",
       "    </tr>\n",
       "    <tr>\n",
       "      <th>...</th>\n",
       "      <td>...</td>\n",
       "      <td>...</td>\n",
       "      <td>...</td>\n",
       "      <td>...</td>\n",
       "    </tr>\n",
       "    <tr>\n",
       "      <th>95</th>\n",
       "      <td>KNIGHT WALKERS</td>\n",
       "      <td>Luxuryfashion casual sneaker shoes Sneakers Fo...</td>\n",
       "      <td>₹449</td>\n",
       "      <td>55% off</td>\n",
       "    </tr>\n",
       "    <tr>\n",
       "      <th>96</th>\n",
       "      <td>URBANBOX</td>\n",
       "      <td>Birde Trendy Casual Shoes Sneakers For Men</td>\n",
       "      <td>₹649</td>\n",
       "      <td>65% off</td>\n",
       "    </tr>\n",
       "    <tr>\n",
       "      <th>97</th>\n",
       "      <td>WHITE WALKERS</td>\n",
       "      <td>Sneakers For Men</td>\n",
       "      <td>₹1,763</td>\n",
       "      <td>49% off</td>\n",
       "    </tr>\n",
       "    <tr>\n",
       "      <th>98</th>\n",
       "      <td>PUMA</td>\n",
       "      <td>Sneaker Sneakers For Men</td>\n",
       "      <td>₹397</td>\n",
       "      <td>80% off</td>\n",
       "    </tr>\n",
       "    <tr>\n",
       "      <th>99</th>\n",
       "      <td>aadi</td>\n",
       "      <td>Mike Stylish &amp; Trendy Sneakers For Men</td>\n",
       "      <td>₹499</td>\n",
       "      <td>85% off</td>\n",
       "    </tr>\n",
       "  </tbody>\n",
       "</table>\n",
       "<p>100 rows × 4 columns</p>\n",
       "</div>"
      ],
      "text/plain": [
       "             Brand                                    Product Details   Price  \\\n",
       "0   luxury fashion  luxury fashionable casual sneaker shoes Sneake...    ₹499   \n",
       "1         HOTSTYLE                          Sneakers Sneakers For Men    ₹295   \n",
       "2         WOODLAND                                   Sneakers For Men  ₹2,096   \n",
       "3           BRUTON      Modern Trendy Sneakers Shoes Sneakers For Men    ₹269   \n",
       "4           BRUTON      Modern Trendy Sneakers Shoes Sneakers For Men    ₹299   \n",
       "..             ...                                                ...     ...   \n",
       "95  KNIGHT WALKERS  Luxuryfashion casual sneaker shoes Sneakers Fo...    ₹449   \n",
       "96        URBANBOX         Birde Trendy Casual Shoes Sneakers For Men    ₹649   \n",
       "97   WHITE WALKERS                                   Sneakers For Men  ₹1,763   \n",
       "98            PUMA                           Sneaker Sneakers For Men    ₹397   \n",
       "99            aadi             Mike Stylish & Trendy Sneakers For Men    ₹499   \n",
       "\n",
       "   Discount  \n",
       "0   61% off  \n",
       "1   40% off  \n",
       "2   30% off  \n",
       "3   79% off  \n",
       "4   76% off  \n",
       "..      ...  \n",
       "95  55% off  \n",
       "96  65% off  \n",
       "97  49% off  \n",
       "98  80% off  \n",
       "99  85% off  \n",
       "\n",
       "[100 rows x 4 columns]"
      ]
     },
     "execution_count": 81,
     "metadata": {},
     "output_type": "execute_result"
    }
   ],
   "source": [
    "# Creating one data fram using scrapped data             \n",
    "sneakers=pd.DataFrame({'Brand':brand,'Product Details':product_dis,'Price':price,'Discount':discount})\n",
    "sneakers"
   ]
  },
  {
   "cell_type": "markdown",
   "id": "e6f75ffc",
   "metadata": {},
   "source": [
    "# Q7: Go to the link - https://www.myntra.com/shoes\n",
    "Set second Price filter and Color filter to “Black”, as shown in the below image.\n",
    "And then scrape First 100 shoes data you get. The data should include “Brand” of the shoes , Short Shoe\n",
    "description, price of the shoe as shown in the below image."
   ]
  },
  {
   "cell_type": "code",
   "execution_count": 86,
   "id": "6205ed39",
   "metadata": {},
   "outputs": [],
   "source": [
    "#connect to the web driver\n",
    "driver=webdriver.Chrome(r'C:\\Users\\Arpan Pattanayak\\Downloads\\chromedriver_win32\\chromedriver.exe')"
   ]
  },
  {
   "cell_type": "code",
   "execution_count": 87,
   "id": "c17fe347",
   "metadata": {},
   "outputs": [],
   "source": [
    "url = 'https://www.myntra.com/shoes'\n",
    "driver.get(url)"
   ]
  },
  {
   "cell_type": "code",
   "execution_count": 88,
   "id": "c0f66c69",
   "metadata": {},
   "outputs": [],
   "source": [
    "price_band=driver.find_element(By.XPATH, '/html/body/div[2]/div/div[1]/main/div[3]/div[1]/section/div/div[5]/ul/li[2]/label')\n",
    "price_band.click()"
   ]
  },
  {
   "cell_type": "code",
   "execution_count": 89,
   "id": "9cf863e8",
   "metadata": {},
   "outputs": [],
   "source": [
    "time.sleep(3)"
   ]
  },
  {
   "cell_type": "code",
   "execution_count": 90,
   "id": "255c28f5",
   "metadata": {},
   "outputs": [],
   "source": [
    "driver.find_element(By.XPATH,'/html/body/div[2]/div/div[1]/main/div[3]/div[1]/section/div/div[6]/ul/li[1]/label/div').click()"
   ]
  },
  {
   "cell_type": "code",
   "execution_count": 91,
   "id": "c0cbac15",
   "metadata": {},
   "outputs": [],
   "source": [
    "time.sleep(3)"
   ]
  },
  {
   "cell_type": "code",
   "execution_count": 92,
   "id": "35d06be4",
   "metadata": {},
   "outputs": [],
   "source": [
    "brand=[]\n",
    "price=[]\n",
    "short_dis=[]\n",
    "def Shoe_scrap():\n",
    "    br=driver.find_elements(By.XPATH,'//h3[@class=\"product-brand\"]')\n",
    "    for i in br:\n",
    "        brand.append(i.text)\n",
    "    pr=driver.find_elements(By.XPATH,'//h4[@class=\"product-product\"]')\n",
    "    for i in pr:\n",
    "        short_dis.append(i.text)\n",
    "    sd=driver.find_elements(By.XPATH,'//div[@class=\"product-price\"]')\n",
    "    for i in sd:\n",
    "        price.append(i.text)\n",
    "Shoe_scrap()"
   ]
  },
  {
   "cell_type": "code",
   "execution_count": 93,
   "id": "881e6eb0",
   "metadata": {},
   "outputs": [],
   "source": [
    "driver.find_element(By.XPATH,'/html/body/div[2]/div/div[1]/main/div[3]/div[2]/div/div[2]/section/div[2]/ul/li[3]/a').click()"
   ]
  },
  {
   "cell_type": "code",
   "execution_count": 94,
   "id": "68f42a8b",
   "metadata": {},
   "outputs": [],
   "source": [
    "time.sleep(3)"
   ]
  },
  {
   "cell_type": "code",
   "execution_count": 95,
   "id": "a5b92f51",
   "metadata": {},
   "outputs": [],
   "source": [
    "Shoe_scrap()\n",
    "driver.close()"
   ]
  },
  {
   "cell_type": "code",
   "execution_count": 96,
   "id": "a436508e",
   "metadata": {},
   "outputs": [
    {
     "data": {
      "text/html": [
       "<div>\n",
       "<style scoped>\n",
       "    .dataframe tbody tr th:only-of-type {\n",
       "        vertical-align: middle;\n",
       "    }\n",
       "\n",
       "    .dataframe tbody tr th {\n",
       "        vertical-align: top;\n",
       "    }\n",
       "\n",
       "    .dataframe thead th {\n",
       "        text-align: right;\n",
       "    }\n",
       "</style>\n",
       "<table border=\"1\" class=\"dataframe\">\n",
       "  <thead>\n",
       "    <tr style=\"text-align: right;\">\n",
       "      <th></th>\n",
       "      <th>Brand</th>\n",
       "      <th>Prodcut Discription</th>\n",
       "      <th>Price</th>\n",
       "    </tr>\n",
       "  </thead>\n",
       "  <tbody>\n",
       "    <tr>\n",
       "      <th>0</th>\n",
       "      <td>Nike</td>\n",
       "      <td>Men React Infinity 3 Running</td>\n",
       "      <td>Rs. 11895Rs. 13995(15% OFF)</td>\n",
       "    </tr>\n",
       "    <tr>\n",
       "      <th>1</th>\n",
       "      <td>Nike</td>\n",
       "      <td>Men SRG 3 FK Training Shoes</td>\n",
       "      <td>Rs. 8895</td>\n",
       "    </tr>\n",
       "    <tr>\n",
       "      <th>2</th>\n",
       "      <td>Hush Puppies</td>\n",
       "      <td>Men Solid Leather Formal Slip-Ons</td>\n",
       "      <td>Rs. 7649Rs. 8999(15% OFF)</td>\n",
       "    </tr>\n",
       "    <tr>\n",
       "      <th>3</th>\n",
       "      <td>Nike</td>\n",
       "      <td>Men Zoom C Pro HC Tennis Shoes</td>\n",
       "      <td>Rs. 7560Rs. 8895(15% OFF)</td>\n",
       "    </tr>\n",
       "    <tr>\n",
       "      <th>4</th>\n",
       "      <td>Nike</td>\n",
       "      <td>Women React MR 3 Running Shoes</td>\n",
       "      <td>Rs. 8920Rs. 10495(15% OFF)</td>\n",
       "    </tr>\n",
       "    <tr>\n",
       "      <th>...</th>\n",
       "      <td>...</td>\n",
       "      <td>...</td>\n",
       "      <td>...</td>\n",
       "    </tr>\n",
       "    <tr>\n",
       "      <th>95</th>\n",
       "      <td>fitflop</td>\n",
       "      <td>Embellished PU Comfort Pumps</td>\n",
       "      <td>Rs. 7499</td>\n",
       "    </tr>\n",
       "    <tr>\n",
       "      <th>96</th>\n",
       "      <td>fitflop</td>\n",
       "      <td>Embellished Leather Wedge Sandals</td>\n",
       "      <td>Rs. 7499</td>\n",
       "    </tr>\n",
       "    <tr>\n",
       "      <th>97</th>\n",
       "      <td>Geox</td>\n",
       "      <td>Women Leather Slip-On Sneakers</td>\n",
       "      <td>Rs. 7693Rs. 10990(30% OFF)</td>\n",
       "    </tr>\n",
       "    <tr>\n",
       "      <th>98</th>\n",
       "      <td>Columbia</td>\n",
       "      <td>Women REDMOND V2 TrekkingShoe</td>\n",
       "      <td>Rs. 7999</td>\n",
       "    </tr>\n",
       "    <tr>\n",
       "      <th>99</th>\n",
       "      <td>Clarks</td>\n",
       "      <td>Women Solid Leather Sneakers</td>\n",
       "      <td>Rs. 7224Rs. 8499(15% OFF)</td>\n",
       "    </tr>\n",
       "  </tbody>\n",
       "</table>\n",
       "<p>100 rows × 3 columns</p>\n",
       "</div>"
      ],
      "text/plain": [
       "           Brand                Prodcut Discription  \\\n",
       "0           Nike       Men React Infinity 3 Running   \n",
       "1           Nike        Men SRG 3 FK Training Shoes   \n",
       "2   Hush Puppies  Men Solid Leather Formal Slip-Ons   \n",
       "3           Nike     Men Zoom C Pro HC Tennis Shoes   \n",
       "4           Nike     Women React MR 3 Running Shoes   \n",
       "..           ...                                ...   \n",
       "95       fitflop       Embellished PU Comfort Pumps   \n",
       "96       fitflop  Embellished Leather Wedge Sandals   \n",
       "97          Geox     Women Leather Slip-On Sneakers   \n",
       "98      Columbia      Women REDMOND V2 TrekkingShoe   \n",
       "99        Clarks       Women Solid Leather Sneakers   \n",
       "\n",
       "                          Price  \n",
       "0   Rs. 11895Rs. 13995(15% OFF)  \n",
       "1                      Rs. 8895  \n",
       "2     Rs. 7649Rs. 8999(15% OFF)  \n",
       "3     Rs. 7560Rs. 8895(15% OFF)  \n",
       "4    Rs. 8920Rs. 10495(15% OFF)  \n",
       "..                          ...  \n",
       "95                     Rs. 7499  \n",
       "96                     Rs. 7499  \n",
       "97   Rs. 7693Rs. 10990(30% OFF)  \n",
       "98                     Rs. 7999  \n",
       "99    Rs. 7224Rs. 8499(15% OFF)  \n",
       "\n",
       "[100 rows x 3 columns]"
      ]
     },
     "execution_count": 96,
     "metadata": {},
     "output_type": "execute_result"
    }
   ],
   "source": [
    "Shoe=pd.DataFrame({'Brand':brand,'Prodcut Discription':short_dis,'Price':price})\n",
    "Shoe"
   ]
  },
  {
   "cell_type": "markdown",
   "id": "7a6526ef",
   "metadata": {},
   "source": [
    "# Q8: Go to webpage https://www.amazon.in/\n",
    "Enter “Laptop” in the search field and then click the search icon.\n",
    "Then set CPU Type filter to “Intel Core i7” as shown in the below image:\n",
    "\n",
    "After setting the filters scrape first 10 laptops data. You have to scrape 3 attributesfor each laptop:\n",
    "1. Title\n",
    "2. Ratings\n",
    "3. Price"
   ]
  },
  {
   "cell_type": "code",
   "execution_count": 97,
   "id": "f9a596a9",
   "metadata": {},
   "outputs": [],
   "source": [
    "#connect to the web driver\n",
    "driver=webdriver.Chrome(r'C:\\Users\\Arpan Pattanayak\\Downloads\\chromedriver_win32\\chromedriver.exe')"
   ]
  },
  {
   "cell_type": "code",
   "execution_count": 98,
   "id": "dc432b2c",
   "metadata": {},
   "outputs": [],
   "source": [
    "url = 'https://www.amazon.in/'\n",
    "driver.get(url)"
   ]
  },
  {
   "cell_type": "code",
   "execution_count": 99,
   "id": "af6f3102",
   "metadata": {},
   "outputs": [],
   "source": [
    "time.sleep(3)"
   ]
  },
  {
   "cell_type": "code",
   "execution_count": 100,
   "id": "bac58f31",
   "metadata": {},
   "outputs": [],
   "source": [
    "amazon_searchtext=driver.find_element(By.XPATH, '/html/body/div[1]/header/div/div[1]/div[2]/div/form/div[2]/div[1]/input')\n",
    "amazon_searchtext.send_keys(\"Laptop\")"
   ]
  },
  {
   "cell_type": "code",
   "execution_count": 101,
   "id": "05da358d",
   "metadata": {},
   "outputs": [],
   "source": [
    "time.sleep(3)"
   ]
  },
  {
   "cell_type": "code",
   "execution_count": 102,
   "id": "a4fc8ac7",
   "metadata": {},
   "outputs": [],
   "source": [
    "driver.find_element(By.XPATH, '/html/body/div[1]/header/div/div[1]/div[2]/div/form/div[3]/div/span/input').click()"
   ]
  },
  {
   "cell_type": "code",
   "execution_count": 103,
   "id": "086c10a3",
   "metadata": {},
   "outputs": [],
   "source": [
    "driver.find_element(By.XPATH, '/html/body/div[1]/div[2]/div[1]/div[2]/div/div[3]/span/div[1]/div/div/div[6]/ul[2]/li[12]/span/a/span').click()"
   ]
  },
  {
   "cell_type": "code",
   "execution_count": 104,
   "id": "4baccf9e",
   "metadata": {},
   "outputs": [],
   "source": [
    "lap_title=[]\n",
    "lap_pri=[]\n",
    "lap_rate=[]\n",
    "#def lap_scrap():\n",
    "ti=driver.find_elements(By.XPATH,'//a[@class=\"a-link-normal s-underline-text s-underline-link-text s-link-style a-text-normal\"]')\n",
    "for i in ti:\n",
    "    if(len(lap_title)==10):\n",
    "        break\n",
    "    else:\n",
    "        lap_title.append(i.text)\n",
    "rt=driver.find_elements(By.XPATH,'//div[@class=\"a-row a-size-small\"]/span[1]')\n",
    "for i in rt:\n",
    "    if(len(lap_rate)==10):\n",
    "        break\n",
    "    else:\n",
    "        lap_rate.append(i.get_attribute('aria-label'))\n",
    "\n",
    "pr=driver.find_elements(By.XPATH,'//span[@class=\"a-price-whole\"]')\n",
    "for i in pr:\n",
    "    if(len(lap_pri)==10):\n",
    "        break\n",
    "    else:\n",
    "        lap_pri.append(i.text)\n",
    "        \n",
    "driver.close()"
   ]
  },
  {
   "cell_type": "code",
   "execution_count": 105,
   "id": "2d2ee7fb",
   "metadata": {},
   "outputs": [
    {
     "data": {
      "text/html": [
       "<div>\n",
       "<style scoped>\n",
       "    .dataframe tbody tr th:only-of-type {\n",
       "        vertical-align: middle;\n",
       "    }\n",
       "\n",
       "    .dataframe tbody tr th {\n",
       "        vertical-align: top;\n",
       "    }\n",
       "\n",
       "    .dataframe thead th {\n",
       "        text-align: right;\n",
       "    }\n",
       "</style>\n",
       "<table border=\"1\" class=\"dataframe\">\n",
       "  <thead>\n",
       "    <tr style=\"text-align: right;\">\n",
       "      <th></th>\n",
       "      <th>Lap Titile</th>\n",
       "      <th>Lap Price</th>\n",
       "      <th>Lap Rating</th>\n",
       "    </tr>\n",
       "  </thead>\n",
       "  <tbody>\n",
       "    <tr>\n",
       "      <th>0</th>\n",
       "      <td>Acer Aspire 3 Intel Core i3 11th Generation 15...</td>\n",
       "      <td>31,650</td>\n",
       "      <td>4.1 out of 5 stars</td>\n",
       "    </tr>\n",
       "    <tr>\n",
       "      <th>1</th>\n",
       "      <td>ASUS VivoBook 14 (2021), 14-inch (35.56 cm) HD...</td>\n",
       "      <td>28,990</td>\n",
       "      <td>3.5 out of 5 stars</td>\n",
       "    </tr>\n",
       "    <tr>\n",
       "      <th>2</th>\n",
       "      <td>Dell Inspiron 3511 Laptop, Intel I3-1005G1, 8G...</td>\n",
       "      <td>34,480</td>\n",
       "      <td>3.2 out of 5 stars</td>\n",
       "    </tr>\n",
       "    <tr>\n",
       "      <th>3</th>\n",
       "      <td>Hp 14S, 11Th Gen Intel Core I3, 8Gb Ram/512Gb ...</td>\n",
       "      <td>40,990</td>\n",
       "      <td>4.1 out of 5 stars</td>\n",
       "    </tr>\n",
       "    <tr>\n",
       "      <th>4</th>\n",
       "      <td>Lenovo IdeaPad Slim 3 Intel Core i3 11th Gen 1...</td>\n",
       "      <td>35,290</td>\n",
       "      <td>4.2 out of 5 stars</td>\n",
       "    </tr>\n",
       "    <tr>\n",
       "      <th>5</th>\n",
       "      <td>Redmi Book 15 Intel Core I3 11Th Gen/8 Gb/256 ...</td>\n",
       "      <td>32,999</td>\n",
       "      <td>3.8 out of 5 stars</td>\n",
       "    </tr>\n",
       "    <tr>\n",
       "      <th>6</th>\n",
       "      <td>Honor MagicBook X 15, Intel Core i3-10110U / 1...</td>\n",
       "      <td>32,990</td>\n",
       "      <td>4.2 out of 5 stars</td>\n",
       "    </tr>\n",
       "    <tr>\n",
       "      <th>7</th>\n",
       "      <td>Hp 14S 11Th Gen Intel Core I3- 8Gb Ram/256Gb S...</td>\n",
       "      <td>36,990</td>\n",
       "      <td>4.2 out of 5 stars</td>\n",
       "    </tr>\n",
       "    <tr>\n",
       "      <th>8</th>\n",
       "      <td>Lenovo IdeaPad Slim 3 Intel Core i3 11th Gen 1...</td>\n",
       "      <td>40,490</td>\n",
       "      <td>4.2 out of 5 stars</td>\n",
       "    </tr>\n",
       "    <tr>\n",
       "      <th>9</th>\n",
       "      <td>ASUS VivoBook 14 (2021), 14-inch (35.56 cm) HD...</td>\n",
       "      <td>31,990</td>\n",
       "      <td>3.9 out of 5 stars</td>\n",
       "    </tr>\n",
       "  </tbody>\n",
       "</table>\n",
       "</div>"
      ],
      "text/plain": [
       "                                          Lap Titile Lap Price  \\\n",
       "0  Acer Aspire 3 Intel Core i3 11th Generation 15...    31,650   \n",
       "1  ASUS VivoBook 14 (2021), 14-inch (35.56 cm) HD...    28,990   \n",
       "2  Dell Inspiron 3511 Laptop, Intel I3-1005G1, 8G...    34,480   \n",
       "3  Hp 14S, 11Th Gen Intel Core I3, 8Gb Ram/512Gb ...    40,990   \n",
       "4  Lenovo IdeaPad Slim 3 Intel Core i3 11th Gen 1...    35,290   \n",
       "5  Redmi Book 15 Intel Core I3 11Th Gen/8 Gb/256 ...    32,999   \n",
       "6  Honor MagicBook X 15, Intel Core i3-10110U / 1...    32,990   \n",
       "7  Hp 14S 11Th Gen Intel Core I3- 8Gb Ram/256Gb S...    36,990   \n",
       "8  Lenovo IdeaPad Slim 3 Intel Core i3 11th Gen 1...    40,490   \n",
       "9  ASUS VivoBook 14 (2021), 14-inch (35.56 cm) HD...    31,990   \n",
       "\n",
       "           Lap Rating  \n",
       "0  4.1 out of 5 stars  \n",
       "1  3.5 out of 5 stars  \n",
       "2  3.2 out of 5 stars  \n",
       "3  4.1 out of 5 stars  \n",
       "4  4.2 out of 5 stars  \n",
       "5  3.8 out of 5 stars  \n",
       "6  4.2 out of 5 stars  \n",
       "7  4.2 out of 5 stars  \n",
       "8  4.2 out of 5 stars  \n",
       "9  3.9 out of 5 stars  "
      ]
     },
     "execution_count": 105,
     "metadata": {},
     "output_type": "execute_result"
    }
   ],
   "source": [
    "lap=pd.DataFrame({'Lap Titile':lap_title,'Lap Price':lap_pri,'Lap Rating':lap_rate})\n",
    "lap"
   ]
  },
  {
   "cell_type": "markdown",
   "id": "7c0c2d53",
   "metadata": {},
   "source": [
    "# Q9: Write a python program to scrape data for first 10 job results for Data Scientist Designation in Noida location. \n",
    "You have to scrape company name, No. of days ago when job was posted, Rating of the company.\n"
   ]
  },
  {
   "cell_type": "code",
   "execution_count": 106,
   "id": "b3cc4dec",
   "metadata": {},
   "outputs": [],
   "source": [
    "#connect to the web driver\n",
    "driver=webdriver.Chrome(r'C:\\Users\\Arpan Pattanayak\\Downloads\\chromedriver_win32\\chromedriver.exe')"
   ]
  },
  {
   "cell_type": "code",
   "execution_count": 107,
   "id": "c4e322c1",
   "metadata": {},
   "outputs": [],
   "source": [
    "url = 'https://www.ambitionbox.com/'\n",
    "driver.get(url)"
   ]
  },
  {
   "cell_type": "code",
   "execution_count": 108,
   "id": "eaa057e9",
   "metadata": {},
   "outputs": [],
   "source": [
    "driver.find_element(By.XPATH,\"/html/body/div[1]/nav/nav/a[6]\").click()"
   ]
  },
  {
   "cell_type": "code",
   "execution_count": 109,
   "id": "af56b985",
   "metadata": {},
   "outputs": [],
   "source": [
    "driver.find_element(By.XPATH, '/html/body/div/div/div/div[2]/div[1]/div[1]/div/div/div/div/span/input').send_keys('Data Scientist')"
   ]
  },
  {
   "cell_type": "code",
   "execution_count": 110,
   "id": "b6d57126",
   "metadata": {},
   "outputs": [],
   "source": [
    "driver.find_element(By.CLASS_NAME,\"ctas-btn-medium\").click()"
   ]
  },
  {
   "cell_type": "code",
   "execution_count": 111,
   "id": "8d93facf",
   "metadata": {},
   "outputs": [],
   "source": [
    "driver.find_element(By.XPATH, \"/html/body/div/div/div/div[2]/div[1]/div[2]/div[1]/div/div/div/div[2]/div[1]\").click()"
   ]
  },
  {
   "cell_type": "code",
   "execution_count": 112,
   "id": "0b62b166",
   "metadata": {},
   "outputs": [],
   "source": [
    "driver.find_element(By.XPATH,'/html/body/div/div/div/div[2]/div[1]/div[2]/div[1]/div/div/div/div[2]/div[2]/div/div[2]/input').send_keys('Noida')"
   ]
  },
  {
   "cell_type": "code",
   "execution_count": 113,
   "id": "34cb6b33",
   "metadata": {},
   "outputs": [],
   "source": [
    "driver.find_element(By.XPATH,'/html/body/div/div/div/div[2]/div[1]/div[2]/div[1]/div/div/div/div[2]/div[2]/div/div[3]/div[1]/div[1]/div/label').click()"
   ]
  },
  {
   "cell_type": "code",
   "execution_count": 114,
   "id": "c4f7886b",
   "metadata": {},
   "outputs": [],
   "source": [
    "time.sleep(3)"
   ]
  },
  {
   "cell_type": "code",
   "execution_count": 115,
   "id": "a44f6bf1",
   "metadata": {},
   "outputs": [],
   "source": [
    "company=[]\n",
    "no_day=[]\n",
    "com_rating=[]\n",
    "com=driver.find_elements(By.XPATH,'//div[@class=\"company-info\"]')\n",
    "for i in com:\n",
    "    company.append(i.text.split('\\n')[0])\n",
    "    if len(com_rating)==0:\n",
    "        com_rating.append(i.text.split('\\n')[2])\n",
    "    else:\n",
    "        com_rating.append(i.text.split('\\n')[1])\n",
    "com_rating=com_rating[:10]\n",
    "company=company[:10]\n",
    "days=driver.find_elements(By.XPATH,'//span[@class=\"body-small-l\"]')\n",
    "for i in days:\n",
    "    no_day.append(i.text.split(','))\n",
    "no_day=no_day[0::2]\n",
    "\n",
    "driver.close()"
   ]
  },
  {
   "cell_type": "code",
   "execution_count": 116,
   "id": "0f15ccdf",
   "metadata": {},
   "outputs": [
    {
     "data": {
      "text/html": [
       "<div>\n",
       "<style scoped>\n",
       "    .dataframe tbody tr th:only-of-type {\n",
       "        vertical-align: middle;\n",
       "    }\n",
       "\n",
       "    .dataframe tbody tr th {\n",
       "        vertical-align: top;\n",
       "    }\n",
       "\n",
       "    .dataframe thead th {\n",
       "        text-align: right;\n",
       "    }\n",
       "</style>\n",
       "<table border=\"1\" class=\"dataframe\">\n",
       "  <thead>\n",
       "    <tr style=\"text-align: right;\">\n",
       "      <th></th>\n",
       "      <th>Company</th>\n",
       "      <th>Company Rating</th>\n",
       "      <th>No of Days ago</th>\n",
       "    </tr>\n",
       "  </thead>\n",
       "  <tbody>\n",
       "    <tr>\n",
       "      <th>0</th>\n",
       "      <td>Optum Global Solutions (India) Private Limited</td>\n",
       "      <td>4.1</td>\n",
       "      <td>[8d ago]</td>\n",
       "    </tr>\n",
       "    <tr>\n",
       "      <th>1</th>\n",
       "      <td>Optum Global Solutions (India) Private Limited</td>\n",
       "      <td>4.1</td>\n",
       "      <td>[15d ago]</td>\n",
       "    </tr>\n",
       "    <tr>\n",
       "      <th>2</th>\n",
       "      <td>GENPACT India Private Limited</td>\n",
       "      <td>4.0</td>\n",
       "      <td>[6d ago]</td>\n",
       "    </tr>\n",
       "    <tr>\n",
       "      <th>3</th>\n",
       "      <td>Dew Solutions Pvt. Ltd.</td>\n",
       "      <td>4.3</td>\n",
       "      <td>[13d ago]</td>\n",
       "    </tr>\n",
       "    <tr>\n",
       "      <th>4</th>\n",
       "      <td>InfoEdge India Ltd.</td>\n",
       "      <td>3.9</td>\n",
       "      <td>[14d ago]</td>\n",
       "    </tr>\n",
       "    <tr>\n",
       "      <th>5</th>\n",
       "      <td>Info Edge India Limited</td>\n",
       "      <td>3.9</td>\n",
       "      <td>[14d ago]</td>\n",
       "    </tr>\n",
       "    <tr>\n",
       "      <th>6</th>\n",
       "      <td>Info Edge India Limited</td>\n",
       "      <td>3.9</td>\n",
       "      <td>[14d ago]</td>\n",
       "    </tr>\n",
       "    <tr>\n",
       "      <th>7</th>\n",
       "      <td>Latent bridge</td>\n",
       "      <td>4.5</td>\n",
       "      <td>[1d ago]</td>\n",
       "    </tr>\n",
       "    <tr>\n",
       "      <th>8</th>\n",
       "      <td>Careerera</td>\n",
       "      <td>3.8</td>\n",
       "      <td>[28d ago]</td>\n",
       "    </tr>\n",
       "    <tr>\n",
       "      <th>9</th>\n",
       "      <td>Careernet Consulting</td>\n",
       "      <td>3.9</td>\n",
       "      <td>[14d ago]</td>\n",
       "    </tr>\n",
       "  </tbody>\n",
       "</table>\n",
       "</div>"
      ],
      "text/plain": [
       "                                          Company Company Rating  \\\n",
       "0  Optum Global Solutions (India) Private Limited            4.1   \n",
       "1  Optum Global Solutions (India) Private Limited            4.1   \n",
       "2                   GENPACT India Private Limited            4.0   \n",
       "3                         Dew Solutions Pvt. Ltd.            4.3   \n",
       "4                             InfoEdge India Ltd.            3.9   \n",
       "5                         Info Edge India Limited            3.9   \n",
       "6                         Info Edge India Limited            3.9   \n",
       "7                                   Latent bridge            4.5   \n",
       "8                                       Careerera            3.8   \n",
       "9                            Careernet Consulting            3.9   \n",
       "\n",
       "  No of Days ago  \n",
       "0       [8d ago]  \n",
       "1      [15d ago]  \n",
       "2       [6d ago]  \n",
       "3      [13d ago]  \n",
       "4      [14d ago]  \n",
       "5      [14d ago]  \n",
       "6      [14d ago]  \n",
       "7       [1d ago]  \n",
       "8      [28d ago]  \n",
       "9      [14d ago]  "
      ]
     },
     "execution_count": 116,
     "metadata": {},
     "output_type": "execute_result"
    }
   ],
   "source": [
    "jobs=pd.DataFrame({'Company':company,'Company Rating':com_rating,'No of Days ago':no_day})\n",
    "jobs"
   ]
  },
  {
   "cell_type": "markdown",
   "id": "83d58f10",
   "metadata": {},
   "source": [
    "# Q10: Write a python program to scrape the salary data for Data Scientist designation.\n",
    "You have to scrape Company name, Number of salaries, Average salary, Minsalary, Max Salary."
   ]
  },
  {
   "cell_type": "code",
   "execution_count": 14,
   "id": "8b467d5e",
   "metadata": {},
   "outputs": [],
   "source": [
    "#connect to the web driver\n",
    "driver=webdriver.Chrome(r'C:\\Users\\Arpan Pattanayak\\Downloads\\chromedriver_win32\\chromedriver.exe')"
   ]
  },
  {
   "cell_type": "code",
   "execution_count": 15,
   "id": "cace90d2",
   "metadata": {},
   "outputs": [],
   "source": [
    "url = 'https://www.ambitionbox.com/'\n",
    "driver.get(url)"
   ]
  },
  {
   "cell_type": "code",
   "execution_count": 16,
   "id": "240faa03",
   "metadata": {},
   "outputs": [],
   "source": [
    "driver.find_element(By.XPATH,\"/html/body/div[1]/nav/nav/a[4]\").click()"
   ]
  },
  {
   "cell_type": "code",
   "execution_count": 17,
   "id": "89ada880",
   "metadata": {},
   "outputs": [],
   "source": [
    "driver.find_element(By.XPATH,'/html/body/div/div/div/main/section[1]/div[2]/div[1]/span/input').send_keys('Data Scientist')"
   ]
  },
  {
   "cell_type": "code",
   "execution_count": 18,
   "id": "c4a2f02b",
   "metadata": {},
   "outputs": [
    {
     "data": {
      "text/plain": [
       "['Walmart',\n",
       " 'Ab Inbev',\n",
       " 'ZS',\n",
       " 'Optum',\n",
       " 'Reliance Jio',\n",
       " 'Fractal Analytics',\n",
       " 'Tiger Analytics',\n",
       " 'UnitedHealth',\n",
       " 'EXL Service',\n",
       " 'Deloitte']"
      ]
     },
     "execution_count": 18,
     "metadata": {},
     "output_type": "execute_result"
    }
   ],
   "source": [
    "#now  we want to extract all  the  10 comapny names here \n",
    "company_names=[]\n",
    "co_nametag= driver.find_elements(By.XPATH,'//div[@class=\"company-info\"]/a')\n",
    "\n",
    "for i in  co_nametag:\n",
    "    com_name=(i.text.split('\\n')[0])\n",
    "    company_names.append(com_name)\n",
    "company_names"
   ]
  },
  {
   "cell_type": "code",
   "execution_count": 30,
   "id": "1fef36ff",
   "metadata": {},
   "outputs": [],
   "source": [
    "#Now we will fetch the min, avg and max Salary\n",
    "avg_sal=[]\n",
    "min_sal=[]\n",
    "max_sal=[]\n",
    "asal=driver.find_elements(By.XPATH,'//p[@class=\"averageCtc\"]')\n",
    "for i in asal:\n",
    "    avg_sal.append(i.text)\n",
    "misal=driver.find_elements(By.XPATH,'//div[@class=\"value body-medium\"]')\n",
    "for i in misal:\n",
    "    min_sal.append(i.text)\n",
    "max_sal=min_sal[1::2]\n",
    "min_sal=min_sal[0::2]"
   ]
  },
  {
   "cell_type": "code",
   "execution_count": 21,
   "id": "382afc6c",
   "metadata": {},
   "outputs": [
    {
     "data": {
      "text/plain": [
       "['3 yrs experience (based on 12 salaries)',\n",
       " '3-4 yrs experience (based on 33 salaries)',\n",
       " '2 yrs experience (based on 15 salaries)',\n",
       " '3-4 yrs experience (based on 32 salaries)',\n",
       " '3-4 yrs experience (based on 21 salaries)',\n",
       " '2-4 yrs experience (based on 89 salaries)',\n",
       " '2-4 yrs experience (based on 51 salaries)',\n",
       " '2-4 yrs experience (based on 57 salaries)',\n",
       " '3-4 yrs experience (based on 21 salaries)',\n",
       " '2-4 yrs experience (based on 69 salaries)']"
      ]
     },
     "execution_count": 21,
     "metadata": {},
     "output_type": "execute_result"
    }
   ],
   "source": [
    "#now  we  will  be fetching  the  experience   here \n",
    "company_exp=[]\n",
    "exp_tag= driver.find_elements(By.XPATH, '//div[@class=\"sbold-list-header\"]')\n",
    "for i in exp_tag:\n",
    "    com_exp=i.text\n",
    "    company_exp.append(com_exp)\n",
    "company_exp\n"
   ]
  },
  {
   "cell_type": "code",
   "execution_count": 33,
   "id": "3a562406",
   "metadata": {},
   "outputs": [
    {
     "data": {
      "text/html": [
       "<div>\n",
       "<style scoped>\n",
       "    .dataframe tbody tr th:only-of-type {\n",
       "        vertical-align: middle;\n",
       "    }\n",
       "\n",
       "    .dataframe tbody tr th {\n",
       "        vertical-align: top;\n",
       "    }\n",
       "\n",
       "    .dataframe thead th {\n",
       "        text-align: right;\n",
       "    }\n",
       "</style>\n",
       "<table border=\"1\" class=\"dataframe\">\n",
       "  <thead>\n",
       "    <tr style=\"text-align: right;\">\n",
       "      <th></th>\n",
       "      <th>Comapnay_names</th>\n",
       "      <th>minimum_salary</th>\n",
       "      <th>Average_salary</th>\n",
       "      <th>Maximum_salary</th>\n",
       "      <th>Experiences_req</th>\n",
       "    </tr>\n",
       "  </thead>\n",
       "  <tbody>\n",
       "    <tr>\n",
       "      <th>0</th>\n",
       "      <td>Walmart</td>\n",
       "      <td>₹ 25.0L</td>\n",
       "      <td>₹ 30.6L</td>\n",
       "      <td>₹ 36.0L</td>\n",
       "      <td>3 yrs experience (based on 12 salaries)</td>\n",
       "    </tr>\n",
       "    <tr>\n",
       "      <th>1</th>\n",
       "      <td>Ab Inbev</td>\n",
       "      <td>₹ 15.0L</td>\n",
       "      <td>₹ 20.8L</td>\n",
       "      <td>₹ 26.2L</td>\n",
       "      <td>3-4 yrs experience (based on 33 salaries)</td>\n",
       "    </tr>\n",
       "    <tr>\n",
       "      <th>2</th>\n",
       "      <td>ZS</td>\n",
       "      <td>₹ 11.0L</td>\n",
       "      <td>₹ 16.7L</td>\n",
       "      <td>₹ 22.0L</td>\n",
       "      <td>2 yrs experience (based on 15 salaries)</td>\n",
       "    </tr>\n",
       "    <tr>\n",
       "      <th>3</th>\n",
       "      <td>Optum</td>\n",
       "      <td>₹ 11.0L</td>\n",
       "      <td>₹ 15.9L</td>\n",
       "      <td>₹ 22.5L</td>\n",
       "      <td>3-4 yrs experience (based on 32 salaries)</td>\n",
       "    </tr>\n",
       "    <tr>\n",
       "      <th>4</th>\n",
       "      <td>Reliance Jio</td>\n",
       "      <td>₹ 5.6L</td>\n",
       "      <td>₹ 15.7L</td>\n",
       "      <td>₹ 26.2L</td>\n",
       "      <td>3-4 yrs experience (based on 21 salaries)</td>\n",
       "    </tr>\n",
       "    <tr>\n",
       "      <th>5</th>\n",
       "      <td>Fractal Analytics</td>\n",
       "      <td>₹ 10.0L</td>\n",
       "      <td>₹ 15.5L</td>\n",
       "      <td>₹ 23.0L</td>\n",
       "      <td>2-4 yrs experience (based on 89 salaries)</td>\n",
       "    </tr>\n",
       "    <tr>\n",
       "      <th>6</th>\n",
       "      <td>Tiger Analytics</td>\n",
       "      <td>₹ 9.0L</td>\n",
       "      <td>₹ 14.8L</td>\n",
       "      <td>₹ 20.0L</td>\n",
       "      <td>2-4 yrs experience (based on 51 salaries)</td>\n",
       "    </tr>\n",
       "    <tr>\n",
       "      <th>7</th>\n",
       "      <td>UnitedHealth</td>\n",
       "      <td>₹ 8.3L</td>\n",
       "      <td>₹ 14.0L</td>\n",
       "      <td>₹ 21.1L</td>\n",
       "      <td>2-4 yrs experience (based on 57 salaries)</td>\n",
       "    </tr>\n",
       "    <tr>\n",
       "      <th>8</th>\n",
       "      <td>EXL Service</td>\n",
       "      <td>₹ 7.6L</td>\n",
       "      <td>₹ 13.2L</td>\n",
       "      <td>₹ 21.0L</td>\n",
       "      <td>3-4 yrs experience (based on 21 salaries)</td>\n",
       "    </tr>\n",
       "    <tr>\n",
       "      <th>9</th>\n",
       "      <td>Deloitte</td>\n",
       "      <td>₹ 7.0L</td>\n",
       "      <td>₹ 12.8L</td>\n",
       "      <td>₹ 25.0L</td>\n",
       "      <td>2-4 yrs experience (based on 69 salaries)</td>\n",
       "    </tr>\n",
       "  </tbody>\n",
       "</table>\n",
       "</div>"
      ],
      "text/plain": [
       "      Comapnay_names minimum_salary Average_salary Maximum_salary  \\\n",
       "0            Walmart        ₹ 25.0L        ₹ 30.6L        ₹ 36.0L   \n",
       "1           Ab Inbev        ₹ 15.0L        ₹ 20.8L        ₹ 26.2L   \n",
       "2                 ZS        ₹ 11.0L        ₹ 16.7L        ₹ 22.0L   \n",
       "3              Optum        ₹ 11.0L        ₹ 15.9L        ₹ 22.5L   \n",
       "4       Reliance Jio         ₹ 5.6L        ₹ 15.7L        ₹ 26.2L   \n",
       "5  Fractal Analytics        ₹ 10.0L        ₹ 15.5L        ₹ 23.0L   \n",
       "6    Tiger Analytics         ₹ 9.0L        ₹ 14.8L        ₹ 20.0L   \n",
       "7       UnitedHealth         ₹ 8.3L        ₹ 14.0L        ₹ 21.1L   \n",
       "8        EXL Service         ₹ 7.6L        ₹ 13.2L        ₹ 21.0L   \n",
       "9           Deloitte         ₹ 7.0L        ₹ 12.8L        ₹ 25.0L   \n",
       "\n",
       "                             Experiences_req  \n",
       "0    3 yrs experience (based on 12 salaries)  \n",
       "1  3-4 yrs experience (based on 33 salaries)  \n",
       "2    2 yrs experience (based on 15 salaries)  \n",
       "3  3-4 yrs experience (based on 32 salaries)  \n",
       "4  3-4 yrs experience (based on 21 salaries)  \n",
       "5  2-4 yrs experience (based on 89 salaries)  \n",
       "6  2-4 yrs experience (based on 51 salaries)  \n",
       "7  2-4 yrs experience (based on 57 salaries)  \n",
       "8  3-4 yrs experience (based on 21 salaries)  \n",
       "9  2-4 yrs experience (based on 69 salaries)  "
      ]
     },
     "execution_count": 33,
     "metadata": {},
     "output_type": "execute_result"
    }
   ],
   "source": [
    "salary = pd.DataFrame({})\n",
    "\n",
    "salary['Comapnay_names']=company_names\n",
    "salary['minimum_salary']=min_sal\n",
    "salary['Average_salary']=avg_sal\n",
    "salary['Maximum_salary']=max_sal\n",
    "salary['Experiences_req']=company_exp\n",
    "salary"
   ]
  }
 ],
 "metadata": {
  "kernelspec": {
   "display_name": "Python 3 (ipykernel)",
   "language": "python",
   "name": "python3"
  },
  "language_info": {
   "codemirror_mode": {
    "name": "ipython",
    "version": 3
   },
   "file_extension": ".py",
   "mimetype": "text/x-python",
   "name": "python",
   "nbconvert_exporter": "python",
   "pygments_lexer": "ipython3",
   "version": "3.9.7"
  }
 },
 "nbformat": 4,
 "nbformat_minor": 5
}
