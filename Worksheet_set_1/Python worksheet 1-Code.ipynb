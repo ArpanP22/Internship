{
 "cells": [
  {
   "cell_type": "code",
   "execution_count": 1,
   "id": "f9b7cc15",
   "metadata": {},
   "outputs": [
    {
     "name": "stdout",
     "output_type": "stream",
     "text": [
      "Enter a number: 6\n",
      "Factorial of 6 is 720\n"
     ]
    }
   ],
   "source": [
    "# Write a python program to find the factorial of a number.\n",
    "\n",
    "num = int(input('Enter a number: '))\n",
    "\n",
    "factorial = 1\n",
    "\n",
    "for i in range (1, num +1):\n",
    "    factorial = factorial*i\n",
    "    \n",
    "print ('Factorial of', num, 'is', factorial )"
   ]
  },
  {
   "cell_type": "code",
   "execution_count": 2,
   "id": "4f4ccc4f",
   "metadata": {},
   "outputs": [
    {
     "name": "stdout",
     "output_type": "stream",
     "text": [
      "Enter a number: 23\n",
      "23 is a prime number\n"
     ]
    }
   ],
   "source": [
    "# Write a python program to find whether a number is prime or composite.\n",
    "\n",
    "num = int(input('Enter a number: '))\n",
    "\n",
    "if num == 0 or num == 1:\n",
    "    print(num, \"is neither prime nor composite number\")\n",
    "    \n",
    "else:\n",
    "    for i in range(2, num):\n",
    "        if (num % i == 0):\n",
    "            print(num, \"is a composite number\")\n",
    "            break\n",
    "    else:\n",
    "        print(num, \"is a prime number\")"
   ]
  },
  {
   "cell_type": "code",
   "execution_count": 3,
   "id": "da1801a8",
   "metadata": {},
   "outputs": [
    {
     "name": "stdout",
     "output_type": "stream",
     "text": [
      "Enter a string: radar\n",
      "The string is palindrome\n"
     ]
    }
   ],
   "source": [
    "#Write a python program to check whether a given string is palindrome or not.\n",
    "\n",
    "my_str = str(input('Enter a string: '))\n",
    "\n",
    "rev_str = reversed(my_str)\n",
    "\n",
    "if list(my_str) == list(rev_str):\n",
    "    print(\"The string is palindrome\")\n",
    "    \n",
    "else:\n",
    "    print(\"The string is not a palindrome\")"
   ]
  },
  {
   "cell_type": "code",
   "execution_count": 4,
   "id": "2686bbd6",
   "metadata": {},
   "outputs": [
    {
     "name": "stdout",
     "output_type": "stream",
     "text": [
      "Enter base: 22.2\n",
      "Enter height: 12.6\n",
      "Hypotenuse =  25.526456863419174\n"
     ]
    }
   ],
   "source": [
    "#Write a Python program to get the third side of right-angled triangle from two given sides.\n",
    "\n",
    "import math\n",
    "\n",
    "a = float(input('Enter base: '))\n",
    "\n",
    "b = float(input('Enter height: '))\n",
    "\n",
    "c = math.sqrt(a**2 + b**2)\n",
    "\n",
    "print (\"Hypotenuse = \", c)\n"
   ]
  },
  {
   "cell_type": "code",
   "execution_count": 5,
   "id": "ba675b41",
   "metadata": {},
   "outputs": [
    {
     "name": "stdout",
     "output_type": "stream",
     "text": [
      "Enter the string: Hello World\n",
      "Frequency of each character is:  {'H': 1, 'e': 1, 'l': 3, 'o': 2, ' ': 1, 'W': 1, 'r': 1, 'd': 1}\n"
     ]
    }
   ],
   "source": [
    "#Write a python program to print the frequency of each of the characters present in a given string.\n",
    "\n",
    "string = input('Enter the string: ')\n",
    "dict = {}\n",
    "for i in string:\n",
    "    if i in dict:\n",
    "        dict[i] +=1\n",
    "        \n",
    "    else:\n",
    "        dict[i] = 1\n",
    "        \n",
    "print(\"Frequency of each character is: \", dict)\n"
   ]
  }
 ],
 "metadata": {
  "kernelspec": {
   "display_name": "Python 3 (ipykernel)",
   "language": "python",
   "name": "python3"
  },
  "language_info": {
   "codemirror_mode": {
    "name": "ipython",
    "version": 3
   },
   "file_extension": ".py",
   "mimetype": "text/x-python",
   "name": "python",
   "nbconvert_exporter": "python",
   "pygments_lexer": "ipython3",
   "version": "3.9.7"
  }
 },
 "nbformat": 4,
 "nbformat_minor": 5
}
